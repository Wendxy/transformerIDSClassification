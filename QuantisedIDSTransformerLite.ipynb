{
 "cells": [
  {
   "cell_type": "code",
   "execution_count": 1,
   "metadata": {},
   "outputs": [],
   "source": [
    "import os\n",
    "import pandas as pd\n",
    "import numpy as np\n",
    "from sklearn.preprocessing import LabelEncoder, OneHotEncoder, StandardScaler\n",
    "from sklearn.model_selection import train_test_split\n",
    "import torch\n",
    "import torch.nn as nn\n",
    "from torch.utils.data import Dataset, DataLoader\n",
    "import torch.optim as optim\n",
    "from tqdm import tqdm\n",
    "import matplotlib.pyplot as plt\n",
    "from sklearn.metrics import confusion_matrix, ConfusionMatrixDisplay\n",
    "import random\n",
    "\n",
    "# Import quantization modules\n",
    "import torch.quantization\n",
    "from torch.quantization import QuantStub, DeQuantStub, fuse_modules\n",
    "from torch.quantization.qconfig import QConfig\n",
    "from torch.quantization import prepare_qat, convert\n",
    "\n",
    "seed = 42\n",
    "random.seed(seed)\n",
    "np.random.seed(seed)\n",
    "torch.manual_seed(seed)\n",
    "if torch.cuda.is_available():\n",
    "    torch.cuda.manual_seed_all(seed)"
   ]
  },
  {
   "cell_type": "code",
   "execution_count": 2,
   "metadata": {},
   "outputs": [
    {
     "name": "stdout",
     "output_type": "stream",
     "text": [
      "Dataset shape: (4898431, 42)\n",
      "label\n",
      "smurf.              2807886\n",
      "neptune.            1072017\n",
      "normal.              972781\n",
      "satan.                15892\n",
      "ipsweep.              12481\n",
      "portsweep.            10413\n",
      "nmap.                  2316\n",
      "back.                  2203\n",
      "warezclient.           1020\n",
      "teardrop.               979\n",
      "pod.                    264\n",
      "guess_passwd.            53\n",
      "buffer_overflow.         30\n",
      "land.                    21\n",
      "warezmaster.             20\n",
      "imap.                    12\n",
      "rootkit.                 10\n",
      "loadmodule.               9\n",
      "ftp_write.                8\n",
      "multihop.                 7\n",
      "phf.                      4\n",
      "perl.                     3\n",
      "spy.                      2\n",
      "Name: count, dtype: int64\n"
     ]
    }
   ],
   "source": [
    "# Load CSV data into a DataFrame\n",
    "\n",
    "data_path = \"../data/data.csv\"\n",
    "columns = ['duration', 'protocol_type', 'service', 'flag', 'src_bytes', 'dst_bytes', \n",
    "           'land', 'wrong_fragment', 'urgent', 'hot', 'num_failed_logins', 'logged_in', \n",
    "           'num_compromised', 'root_shell', 'su_attempted', 'num_root', 'num_file_creations', \n",
    "           'num_shells', 'num_access_files', 'num_outbound_cmds', 'is_host_login', 'is_guest_login', \n",
    "           'count', 'srv_count', 'serror_rate', 'srv_serror_rate', 'rerror_rate', 'srv_rerror_rate', \n",
    "           'same_srv_rate', 'diff_srv_rate', 'srv_diff_host_rate', 'dst_host_count', 'dst_host_srv_count', \n",
    "           'dst_host_same_srv_rate', 'dst_host_diff_srv_rate', 'dst_host_same_src_port_rate', \n",
    "           'dst_host_srv_diff_host_rate', 'dst_host_serror_rate', 'dst_host_srv_serror_rate', \n",
    "           'dst_host_rerror_rate', 'dst_host_srv_rerror_rate', 'label']\n",
    "\n",
    "df = pd.read_csv(data_path, header=None, names=columns)\n",
    "print(\"Dataset shape:\", df.shape)\n",
    "df.head()\n",
    "label_counts = df['label'].value_counts()\n",
    "print(label_counts)\n"
   ]
  },
  {
   "cell_type": "markdown",
   "metadata": {},
   "source": [
    "1. Preprocessing"
   ]
  },
  {
   "cell_type": "markdown",
   "metadata": {},
   "source": [
    "Now I will classify two different type of data, categorical and continous. This is because each type of data have \n",
    "different way of encoding it. So we will encode it differently, then concat it to create a token that represent a row of\n",
    "data."
   ]
  },
  {
   "cell_type": "code",
   "execution_count": 3,
   "metadata": {},
   "outputs": [],
   "source": [
    "categorical_cols = ['protocol_type', 'service', 'flag', 'land', 'logged_in', 'is_host_login', 'is_guest_login']\n",
    "continuous_cols = [col for col in df.columns if col not in categorical_cols + ['label']]"
   ]
  },
  {
   "cell_type": "code",
   "execution_count": 4,
   "metadata": {},
   "outputs": [],
   "source": [
    "#For continuous data, we will use normalisation \n",
    "scaler = StandardScaler()\n",
    "df_cont = pd.DataFrame(scaler.fit_transform(df[continuous_cols]), columns=continuous_cols)"
   ]
  },
  {
   "cell_type": "code",
   "execution_count": 5,
   "metadata": {},
   "outputs": [],
   "source": [
    "#For categorical data, since they r text, we will use label encoder\n",
    "df_cat = df[categorical_cols].copy()\n",
    "cat_encoders = {}\n",
    "for col in categorical_cols:\n",
    "    le = LabelEncoder()\n",
    "    df_cat[col] = le.fit_transform(df_cat[col].astype(str))\n",
    "    cat_encoders[col] = le"
   ]
  },
  {
   "cell_type": "code",
   "execution_count": 6,
   "metadata": {},
   "outputs": [],
   "source": [
    "#Preprocessing the label\n",
    "# Process target labels: first remove trailing punctuation if any (e.g., \"normal.\" -> \"normal\")\n",
    "df['label'] = df['label'].str.replace(r'\\W+$', '', regex=True)\n",
    "target_labels = ['back', 'buffer_overflow', 'ftp_write', 'guess_passwd', 'imap', 'ipsweep', 'land', \n",
    "                 'loadmodule', 'multihop', 'neptune', 'nmap', 'normal', 'perl', 'phf', 'pod', 'portsweep', \n",
    "                 'rootkit', 'satan', 'smurf', 'spy', 'teardrop', 'warezclient', 'warezmaster']\n"
   ]
  },
  {
   "cell_type": "code",
   "execution_count": 7,
   "metadata": {},
   "outputs": [
    {
     "name": "stdout",
     "output_type": "stream",
     "text": [
      "['back' 'buffer_overflow' 'ftp_write' 'guess_passwd' 'imap' 'ipsweep'\n",
      " 'land' 'loadmodule' 'multihop' 'neptune' 'nmap' 'normal' 'perl' 'phf'\n",
      " 'pod' 'portsweep' 'rootkit' 'satan' 'smurf' 'spy' 'teardrop'\n",
      " 'warezclient' 'warezmaster']\n"
     ]
    }
   ],
   "source": [
    "# Create label encoder for targets\n",
    "target_le = LabelEncoder()\n",
    "target_le.fit(target_labels)\n",
    "df['label_enc'] = target_le.transform(df['label'])\n",
    "print(target_le.classes_)\n",
    "\n"
   ]
  },
  {
   "cell_type": "code",
   "execution_count": 8,
   "metadata": {},
   "outputs": [
    {
     "name": "stdout",
     "output_type": "stream",
     "text": [
      "Processed features shape: (4898431, 41)\n"
     ]
    },
    {
     "data": {
      "text/html": [
       "<div>\n",
       "<style scoped>\n",
       "    .dataframe tbody tr th:only-of-type {\n",
       "        vertical-align: middle;\n",
       "    }\n",
       "\n",
       "    .dataframe tbody tr th {\n",
       "        vertical-align: top;\n",
       "    }\n",
       "\n",
       "    .dataframe thead th {\n",
       "        text-align: right;\n",
       "    }\n",
       "</style>\n",
       "<table border=\"1\" class=\"dataframe\">\n",
       "  <thead>\n",
       "    <tr style=\"text-align: right;\">\n",
       "      <th></th>\n",
       "      <th>duration</th>\n",
       "      <th>src_bytes</th>\n",
       "      <th>dst_bytes</th>\n",
       "      <th>wrong_fragment</th>\n",
       "      <th>urgent</th>\n",
       "      <th>hot</th>\n",
       "      <th>num_failed_logins</th>\n",
       "      <th>num_compromised</th>\n",
       "      <th>root_shell</th>\n",
       "      <th>su_attempted</th>\n",
       "      <th>...</th>\n",
       "      <th>dst_host_srv_serror_rate</th>\n",
       "      <th>dst_host_rerror_rate</th>\n",
       "      <th>dst_host_srv_rerror_rate</th>\n",
       "      <th>protocol_type</th>\n",
       "      <th>service</th>\n",
       "      <th>flag</th>\n",
       "      <th>land</th>\n",
       "      <th>logged_in</th>\n",
       "      <th>is_host_login</th>\n",
       "      <th>is_guest_login</th>\n",
       "    </tr>\n",
       "  </thead>\n",
       "  <tbody>\n",
       "    <tr>\n",
       "      <th>0</th>\n",
       "      <td>-0.066833</td>\n",
       "      <td>-0.001720</td>\n",
       "      <td>0.068188</td>\n",
       "      <td>-0.015139</td>\n",
       "      <td>-0.001103</td>\n",
       "      <td>-0.026521</td>\n",
       "      <td>-0.004391</td>\n",
       "      <td>-0.002097</td>\n",
       "      <td>-0.008258</td>\n",
       "      <td>-0.004546</td>\n",
       "      <td>...</td>\n",
       "      <td>-0.465454</td>\n",
       "      <td>-0.250832</td>\n",
       "      <td>-0.249632</td>\n",
       "      <td>1</td>\n",
       "      <td>24</td>\n",
       "      <td>9</td>\n",
       "      <td>0</td>\n",
       "      <td>1</td>\n",
       "      <td>0</td>\n",
       "      <td>0</td>\n",
       "    </tr>\n",
       "    <tr>\n",
       "      <th>1</th>\n",
       "      <td>-0.066833</td>\n",
       "      <td>-0.001777</td>\n",
       "      <td>0.005325</td>\n",
       "      <td>-0.015139</td>\n",
       "      <td>-0.001103</td>\n",
       "      <td>-0.026521</td>\n",
       "      <td>-0.004391</td>\n",
       "      <td>-0.002097</td>\n",
       "      <td>-0.008258</td>\n",
       "      <td>-0.004546</td>\n",
       "      <td>...</td>\n",
       "      <td>-0.465454</td>\n",
       "      <td>-0.250832</td>\n",
       "      <td>-0.249632</td>\n",
       "      <td>1</td>\n",
       "      <td>24</td>\n",
       "      <td>9</td>\n",
       "      <td>0</td>\n",
       "      <td>1</td>\n",
       "      <td>0</td>\n",
       "      <td>0</td>\n",
       "    </tr>\n",
       "    <tr>\n",
       "      <th>2</th>\n",
       "      <td>-0.066833</td>\n",
       "      <td>-0.001698</td>\n",
       "      <td>0.000208</td>\n",
       "      <td>-0.015139</td>\n",
       "      <td>-0.001103</td>\n",
       "      <td>-0.026521</td>\n",
       "      <td>-0.004391</td>\n",
       "      <td>-0.002097</td>\n",
       "      <td>-0.008258</td>\n",
       "      <td>-0.004546</td>\n",
       "      <td>...</td>\n",
       "      <td>-0.465454</td>\n",
       "      <td>-0.250832</td>\n",
       "      <td>-0.249632</td>\n",
       "      <td>1</td>\n",
       "      <td>24</td>\n",
       "      <td>9</td>\n",
       "      <td>0</td>\n",
       "      <td>1</td>\n",
       "      <td>0</td>\n",
       "      <td>0</td>\n",
       "    </tr>\n",
       "    <tr>\n",
       "      <th>3</th>\n",
       "      <td>-0.066833</td>\n",
       "      <td>-0.001701</td>\n",
       "      <td>0.001455</td>\n",
       "      <td>-0.015139</td>\n",
       "      <td>-0.001103</td>\n",
       "      <td>-0.026521</td>\n",
       "      <td>-0.004391</td>\n",
       "      <td>-0.002097</td>\n",
       "      <td>-0.008258</td>\n",
       "      <td>-0.004546</td>\n",
       "      <td>...</td>\n",
       "      <td>-0.465454</td>\n",
       "      <td>-0.250832</td>\n",
       "      <td>-0.249632</td>\n",
       "      <td>1</td>\n",
       "      <td>24</td>\n",
       "      <td>9</td>\n",
       "      <td>0</td>\n",
       "      <td>1</td>\n",
       "      <td>0</td>\n",
       "      <td>0</td>\n",
       "    </tr>\n",
       "    <tr>\n",
       "      <th>4</th>\n",
       "      <td>-0.066833</td>\n",
       "      <td>-0.001695</td>\n",
       "      <td>-0.000942</td>\n",
       "      <td>-0.015139</td>\n",
       "      <td>-0.001103</td>\n",
       "      <td>-0.026521</td>\n",
       "      <td>-0.004391</td>\n",
       "      <td>-0.002097</td>\n",
       "      <td>-0.008258</td>\n",
       "      <td>-0.004546</td>\n",
       "      <td>...</td>\n",
       "      <td>-0.465454</td>\n",
       "      <td>-0.250832</td>\n",
       "      <td>-0.249632</td>\n",
       "      <td>1</td>\n",
       "      <td>24</td>\n",
       "      <td>9</td>\n",
       "      <td>0</td>\n",
       "      <td>1</td>\n",
       "      <td>0</td>\n",
       "      <td>0</td>\n",
       "    </tr>\n",
       "  </tbody>\n",
       "</table>\n",
       "<p>5 rows × 41 columns</p>\n",
       "</div>"
      ],
      "text/plain": [
       "   duration  src_bytes  dst_bytes  wrong_fragment    urgent       hot  \\\n",
       "0 -0.066833  -0.001720   0.068188       -0.015139 -0.001103 -0.026521   \n",
       "1 -0.066833  -0.001777   0.005325       -0.015139 -0.001103 -0.026521   \n",
       "2 -0.066833  -0.001698   0.000208       -0.015139 -0.001103 -0.026521   \n",
       "3 -0.066833  -0.001701   0.001455       -0.015139 -0.001103 -0.026521   \n",
       "4 -0.066833  -0.001695  -0.000942       -0.015139 -0.001103 -0.026521   \n",
       "\n",
       "   num_failed_logins  num_compromised  root_shell  su_attempted  ...  \\\n",
       "0          -0.004391        -0.002097   -0.008258     -0.004546  ...   \n",
       "1          -0.004391        -0.002097   -0.008258     -0.004546  ...   \n",
       "2          -0.004391        -0.002097   -0.008258     -0.004546  ...   \n",
       "3          -0.004391        -0.002097   -0.008258     -0.004546  ...   \n",
       "4          -0.004391        -0.002097   -0.008258     -0.004546  ...   \n",
       "\n",
       "   dst_host_srv_serror_rate  dst_host_rerror_rate  dst_host_srv_rerror_rate  \\\n",
       "0                 -0.465454             -0.250832                 -0.249632   \n",
       "1                 -0.465454             -0.250832                 -0.249632   \n",
       "2                 -0.465454             -0.250832                 -0.249632   \n",
       "3                 -0.465454             -0.250832                 -0.249632   \n",
       "4                 -0.465454             -0.250832                 -0.249632   \n",
       "\n",
       "   protocol_type  service  flag  land  logged_in  is_host_login  \\\n",
       "0              1       24     9     0          1              0   \n",
       "1              1       24     9     0          1              0   \n",
       "2              1       24     9     0          1              0   \n",
       "3              1       24     9     0          1              0   \n",
       "4              1       24     9     0          1              0   \n",
       "\n",
       "   is_guest_login  \n",
       "0               0  \n",
       "1               0  \n",
       "2               0  \n",
       "3               0  \n",
       "4               0  \n",
       "\n",
       "[5 rows x 41 columns]"
      ]
     },
     "execution_count": 8,
     "metadata": {},
     "output_type": "execute_result"
    }
   ],
   "source": [
    "# Combine continuous and categorical features\n",
    "df_features = pd.concat([df_cont, df_cat], axis=1)\n",
    "print(\"Processed features shape:\", df_features.shape)\n",
    "df_features.head()"
   ]
  },
  {
   "cell_type": "markdown",
   "metadata": {},
   "source": [
    "2. Create the model"
   ]
  },
  {
   "cell_type": "markdown",
   "metadata": {},
   "source": [
    "My intention is using a transformer that have similar structure to BERT. This is because the model will have an attention layer to learn the semantic relationship between packets. The sliding allows\n",
    "use to look at a range of packets in sequence, and look if there is suspicious packets in the sequence."
   ]
  },
  {
   "cell_type": "code",
   "execution_count": 9,
   "metadata": {},
   "outputs": [
    {
     "name": "stdout",
     "output_type": "stream",
     "text": [
      "Original features shape: (4898431, 41)\n",
      "Original labels shape: (4898431,)\n",
      "Sliding window dataset length: 4898332\n"
     ]
    }
   ],
   "source": [
    "WINDOW_SIZE = 100\n",
    "class SlidingWindowDataset(Dataset):\n",
    "    def __init__(self, features, labels, window_size):\n",
    "        \"\"\"\n",
    "        features: numpy array of shape (num_rows, num_features)\n",
    "        labels: numpy array of shape (num_rows,)\n",
    "        window_size: int, number of rows per window\n",
    "        \"\"\"\n",
    "        self.features = features\n",
    "        self.labels = labels\n",
    "        self.window_size = window_size\n",
    "        self.num_samples = len(features) - window_size + 1  # number of sliding windows\n",
    "        \n",
    "    def __len__(self):\n",
    "        return self.num_samples\n",
    "    \n",
    "    def __getitem__(self, idx):\n",
    "        # Extract a window of consecutive rows on the fly\n",
    "        window = self.features[idx : idx + self.window_size]\n",
    "        # For simplicity, we use the label of the last row in the window. It means that if there is a bad packet in the end of the sequence,\n",
    "        #the model will immediately flag entire sequence as bad as soon as a bad packet comes in\n",
    "        label = self.labels[idx + self.window_size - 1]\n",
    "        return torch.tensor(window, dtype=torch.float32), torch.tensor(label, dtype=torch.long)\n",
    "\n",
    "# Get the preprocessed feature and label arrays\n",
    "features_np = df_features.values.astype(np.float32)\n",
    "labels_np = df['label_enc'].values.astype(np.int64)\n",
    "print(\"Original features shape:\", features_np.shape)\n",
    "print(\"Original labels shape:\", labels_np.shape)\n",
    "\n",
    "# Create the sliding window dataset\n",
    "dataset = SlidingWindowDataset(features_np, labels_np, WINDOW_SIZE)\n",
    "print(\"Sliding window dataset length:\", len(dataset))\n",
    "\n",
    "# Split the dataset into training and test sets using random_split\n",
    "train_size = int(0.8 * len(dataset))\n",
    "test_size = len(dataset) - train_size\n",
    "train_dataset, test_dataset = torch.utils.data.random_split(dataset, [train_size, test_size])\n",
    "\n",
    "# Create DataLoaders\n",
    "train_loader = DataLoader(train_dataset, batch_size=32, shuffle=True) #originally batch_size = 32\n",
    "test_loader = DataLoader(test_dataset, batch_size=32)"
   ]
  },
  {
   "cell_type": "code",
   "execution_count": 10,
   "metadata": {},
   "outputs": [],
   "source": [
    "# class PacketTransformer(nn.Module):\n",
    "#     def __init__(self, input_dim, embed_dim, num_layers, num_heads, window_size, num_classes):\n",
    "#         super(PacketTransformer, self).__init__()\n",
    "#         self.window_size = window_size\n",
    "        \n",
    "#         # Project the input token (each row) into an embedding\n",
    "#         self.input_proj = nn.Linear(input_dim, embed_dim)\n",
    "        \n",
    "#         # [CLS] token embedding (learnable)\n",
    "#         self.cls_token = nn.Parameter(torch.randn(1, 1, embed_dim))\n",
    "        \n",
    "#         # Positional embeddings: one per token in the window (+1 for [CLS])\n",
    "#         self.pos_embedding = nn.Parameter(torch.randn(window_size + 1, embed_dim))\n",
    "        \n",
    "#         # Transformer encoder layers\n",
    "#         encoder_layer = nn.TransformerEncoderLayer(d_model=embed_dim, nhead=num_heads, dropout=0.1)\n",
    "#         self.transformer_encoder = nn.TransformerEncoder(encoder_layer, num_layers=num_layers)\n",
    "        \n",
    "#         # Classification head\n",
    "#         self.classifier = nn.Sequential(\n",
    "#             nn.Linear(embed_dim, embed_dim),\n",
    "#             nn.ReLU(),\n",
    "#             nn.Linear(embed_dim, num_classes)\n",
    "#         )\n",
    "        \n",
    "#     def forward(self, x):\n",
    "#         \"\"\"\n",
    "#         x: tensor of shape [batch, window_size, input_dim]\n",
    "#         \"\"\"\n",
    "#         batch_size = x.size(0)\n",
    "#         # Project each token\n",
    "#         tokens = self.input_proj(x)  # [batch, window_size, embed_dim]\n",
    "        \n",
    "#         # Prepend [CLS] token for each sample in the batch\n",
    "#         cls_tokens = self.cls_token.expand(batch_size, -1, -1)  # [batch, 1, embed_dim]\n",
    "#         tokens = torch.cat([cls_tokens, tokens], dim=1)  # [batch, window_size+1, embed_dim]\n",
    "        \n",
    "#         # Add positional embedding\n",
    "#         tokens = tokens + self.pos_embedding.unsqueeze(0)\n",
    "        \n",
    "#         # Transformer expects shape: [seq_len, batch, embed_dim]\n",
    "#         tokens = tokens.transpose(0, 1)\n",
    "#         transformer_out = self.transformer_encoder(tokens)\n",
    "        \n",
    "#         # Use [CLS] token output for classification (first token)\n",
    "#         cls_out = transformer_out[0]  # [batch, embed_dim]\n",
    "#         logits = self.classifier(cls_out)\n",
    "#         return logits"
   ]
  },
  {
   "cell_type": "code",
   "execution_count": 11,
   "metadata": {},
   "outputs": [],
   "source": [
    "class TransformerBlock(nn.Module):\n",
    "    def __init__(self, embed_dim, num_heads, num_layers):\n",
    "        super(TransformerBlock, self).__init__()\n",
    "        \n",
    "        # Create transformer with batch_first=True for easier handling\n",
    "        encoder_layer = nn.TransformerEncoderLayer(\n",
    "            d_model=embed_dim, \n",
    "            nhead=num_heads, \n",
    "            dropout=0.1, \n",
    "            batch_first=True\n",
    "        )\n",
    "        self.transformer_encoder = nn.TransformerEncoder(encoder_layer, num_layers=num_layers)\n",
    "    \n",
    "    def forward(self, x):\n",
    "        return self.transformer_encoder(x)"
   ]
  },
  {
   "cell_type": "code",
   "execution_count": 12,
   "metadata": {},
   "outputs": [],
   "source": [
    "class QuantizablePacketTransformer(nn.Module):\n",
    "    def __init__(self, input_dim, embed_dim, num_layers, num_heads, window_size, num_classes):\n",
    "        super(QuantizablePacketTransformer, self).__init__()\n",
    "        self.window_size = window_size\n",
    "        \n",
    "        # Quantization stubs\n",
    "        self.quant = QuantStub()\n",
    "        self.dequant = DeQuantStub()\n",
    "        \n",
    "        # Input projection - will be quantized\n",
    "        self.input_proj = nn.Linear(input_dim, embed_dim)\n",
    "        \n",
    "        # Parameters - will not be quantized\n",
    "        self.cls_token = nn.Parameter(torch.randn(1, 1, embed_dim))\n",
    "        self.pos_embedding = nn.Parameter(torch.randn(window_size + 1, embed_dim))\n",
    "        \n",
    "        # Transformer block - will not be quantized\n",
    "        self.transformer_block = TransformerBlock(embed_dim, num_heads, num_layers)\n",
    "        \n",
    "        # Classification head - will be quantized\n",
    "        self.fc1 = nn.Linear(embed_dim, embed_dim)\n",
    "        self.relu = nn.ReLU()\n",
    "        self.fc2 = nn.Linear(embed_dim, num_classes)\n",
    "        \n",
    "    def forward(self, x):\n",
    "        # Quantize input\n",
    "        x = self.quant(x)\n",
    "        \n",
    "        # Process input projection (quantized)\n",
    "        batch_size = x.size(0)\n",
    "        tokens = self.input_proj(x)  # [batch, window_size, embed_dim]\n",
    "        \n",
    "        # Dequantize before non-quantizable operations\n",
    "        tokens = self.dequant(tokens)\n",
    "        \n",
    "        # Non-quantized operations\n",
    "        cls_tokens = self.cls_token.expand(batch_size, -1, -1)\n",
    "        tokens = torch.cat([cls_tokens, tokens], dim=1)\n",
    "        tokens = tokens + self.pos_embedding.unsqueeze(0)\n",
    "        \n",
    "        # Pass through transformer (non-quantized)\n",
    "        transformer_out = self.transformer_block(tokens)\n",
    "        cls_out = transformer_out[:, 0, :]  # Get CLS token output\n",
    "        \n",
    "        # Requantize for classification head\n",
    "        cls_out = self.quant(cls_out)\n",
    "        \n",
    "        # Classification head (quantized)\n",
    "        x = self.fc1(cls_out)\n",
    "        x = self.relu(x)\n",
    "        logits = self.fc2(x)\n",
    "        \n",
    "        # Final dequantization\n",
    "        logits = self.dequant(logits)\n",
    "        return logits\n",
    "    \n",
    "    def fuse_model(self):\n",
    "        \"\"\"Fuse operations for better quantization performance\"\"\"\n",
    "        try:\n",
    "            # Try both import paths for compatibility with different PyTorch versions\n",
    "            try:\n",
    "                from torch.quantization import fuse_modules\n",
    "            except ImportError:\n",
    "                from torch.ao.quantization import fuse_modules\n",
    "            \n",
    "            fuse_modules(self, ['fc1', 'relu'], inplace=True)\n",
    "            print(\"Fusion successful\")\n",
    "        except Exception as e:\n",
    "            print(f\"Fusion failed: {e}. Continuing without fusion.\")\n",
    "    \n",
    "    def set_qconfig(self):\n",
    "        \"\"\"Custom qconfig setup that excludes transformer layers\"\"\"\n",
    "        qconfig = torch.quantization.get_default_qat_qconfig('fbgemm')\n",
    "        \n",
    "        # Set qconfig for the whole model\n",
    "        self.qconfig = qconfig\n",
    "        \n",
    "        # Remove qconfig from transformer block (it doesn't support quantization well)\n",
    "        self.transformer_block.qconfig = None\n",
    "        \n",
    "        # Make sure parameters inside transformer are also without qconfig\n",
    "        for module in self.transformer_block.modules():\n",
    "            module.qconfig = None\n"
   ]
  },
  {
   "cell_type": "code",
   "execution_count": 13,
   "metadata": {},
   "outputs": [
    {
     "name": "stdout",
     "output_type": "stream",
     "text": [
      "Using device: cpu\n"
     ]
    }
   ],
   "source": [
    "def prepare_model_for_qat(model, device):\n",
    "    # Step 1: Start with model on CPU\n",
    "    model = model.cpu()\n",
    "    \n",
    "    # Step 2: Fuse layers where possible\n",
    "    model.fuse_model()\n",
    "    \n",
    "    # Step 3: Set quantization backend\n",
    "    torch.backends.quantized.engine = 'fbgemm'  # Use 'qnnpack' for ARM processors\n",
    "    \n",
    "    # Step 4: Configure which parts to quantize\n",
    "    qconfig = torch.quantization.get_default_qat_qconfig('fbgemm')\n",
    "    \n",
    "    # Default configuration for the model\n",
    "    model.qconfig = qconfig\n",
    "    \n",
    "    # Explicitly exclude transformer and parameters from quantization\n",
    "    model.transformer_block.qconfig = None\n",
    "    for module in model.transformer_block.modules():\n",
    "        module.qconfig = None\n",
    "    \n",
    "    # Step 5: Prepare the model for QAT\n",
    "    try:\n",
    "        torch.quantization.prepare_qat(model, inplace=True)\n",
    "        print(\"QAT preparation successful\")\n",
    "    except Exception as e:\n",
    "        print(f\"QAT preparation failed: {e}\")\n",
    "        \n",
    "    # Step 6: Move to the training device\n",
    "    return model.to(device)\n",
    "\n",
    "# Initialize and prepare the model\n",
    "input_dim = dataset.features.shape[-1]\n",
    "embed_dim = 16 #16\n",
    "num_layers = 1\n",
    "num_heads = 2\n",
    "num_classes = len(target_labels)\n",
    "num_epochs = 60\n",
    "\n",
    "device = torch.device(\"cpu\")\n",
    "print(\"Using device:\", device)\n",
    "\n",
    "# Create the model\n",
    "model = QuantizablePacketTransformer(\n",
    "    input_dim=input_dim, \n",
    "    embed_dim=embed_dim, \n",
    "    num_layers=num_layers,\n",
    "    num_heads=num_heads, \n",
    "    window_size=WINDOW_SIZE, \n",
    "    num_classes=num_classes\n",
    ")"
   ]
  },
  {
   "cell_type": "code",
   "execution_count": 14,
   "metadata": {},
   "outputs": [
    {
     "name": "stdout",
     "output_type": "stream",
     "text": [
      "Fusion successful\n",
      "QAT preparation successful\n"
     ]
    },
    {
     "name": "stderr",
     "output_type": "stream",
     "text": [
      "c:\\Users\\Antoi\\AppData\\Local\\Programs\\Python\\Python312\\Lib\\site-packages\\torch\\ao\\quantization\\observer.py:229: UserWarning: Please use quant_min and quant_max to specify the range for observers.                     reduce_range will be deprecated in a future release of PyTorch.\n",
      "  warnings.warn(\n"
     ]
    }
   ],
   "source": [
    "model = prepare_model_for_qat(model, device)\n",
    "\n",
    "# Set up training\n",
    "criterion = nn.CrossEntropyLoss()\n",
    "optimizer = optim.Adam(model.parameters(), lr=1e-6) #1e-3"
   ]
  },
  {
   "cell_type": "code",
   "execution_count": 15,
   "metadata": {},
   "outputs": [],
   "source": [
    "# def train_epoch(model, loader, criterion, optimizer, device):\n",
    "#     model.train()\n",
    "#     running_loss = 0.0\n",
    "#     # Wrap loader with tqdm for progress bar\n",
    "#     for batch_X, batch_y in tqdm(loader, desc=\"Training\", leave=False):\n",
    "#         batch_X, batch_y = batch_X.to(device), batch_y.to(device)\n",
    "#         optimizer.zero_grad()\n",
    "#         logits = model(batch_X)\n",
    "#         loss = criterion(logits, batch_y)\n",
    "#         loss.backward()\n",
    "#         optimizer.step()\n",
    "#         running_loss += loss.item() * batch_X.size(0)\n",
    "#     return running_loss / len(loader.dataset)"
   ]
  },
  {
   "cell_type": "code",
   "execution_count": 16,
   "metadata": {},
   "outputs": [],
   "source": [
    "def train_with_qat(model, train_loader, criterion, optimizer, device):\n",
    "    model.train()\n",
    "    total_loss = 0.0\n",
    "    processed_batches = 0\n",
    "    \n",
    "    for batch_idx, (data, target) in enumerate(train_loader):\n",
    "        # Move data to the correct device\n",
    "        data, target = data.to(device), target.to(device)\n",
    "        \n",
    "        # Zero the parameter gradients\n",
    "        optimizer.zero_grad()\n",
    "        \n",
    "        # Forward pass\n",
    "        output = model(data)\n",
    "        loss = criterion(output, target)\n",
    "        \n",
    "        # Backward pass and optimize\n",
    "        loss.backward()\n",
    "        optimizer.step()\n",
    "        \n",
    "        # Accumulate loss (make sure to use .item() to get the scalar value)\n",
    "        total_loss += loss.item()\n",
    "        processed_batches += 1\n",
    "        \n",
    "        # Print progress\n",
    "        # if batch_idx % 10 == 0:\n",
    "        #     print(f'Batch {batch_idx}/{len(train_loader)}, Loss: {loss.item():.4f}')\n",
    "    \n",
    "    # Return average loss\n",
    "    return total_loss / processed_batches if processed_batches > 0 else 0.0"
   ]
  },
  {
   "cell_type": "code",
   "execution_count": 17,
   "metadata": {},
   "outputs": [],
   "source": [
    "def evaluate(model, loader, criterion, device):\n",
    "    model.eval()\n",
    "    running_loss = 0.0\n",
    "    correct = 0\n",
    "    all_preds = []\n",
    "    all_labels = []\n",
    "    \n",
    "    # Wrap loader with tqdm for progress bar during evaluation\n",
    "    for batch_X, batch_y in tqdm(loader, desc=\"Evaluating\", leave=False):\n",
    "        batch_X, batch_y = batch_X.to(device), batch_y.to(device)\n",
    "        logits = model(batch_X)\n",
    "        loss = criterion(logits, batch_y)\n",
    "        running_loss += loss.item() * batch_X.size(0)\n",
    "        preds = logits.argmax(dim=1)\n",
    "        correct += (preds == batch_y).sum().item()\n",
    "        # Collect predictions and true labels for confusion matrix\n",
    "        all_preds.extend(preds.cpu().numpy())\n",
    "        all_labels.extend(batch_y.cpu().numpy())\n",
    "        \n",
    "    avg_loss = running_loss / len(loader.dataset)\n",
    "    avg_acc = correct / len(loader.dataset)\n",
    "    return avg_loss, avg_acc, all_labels, all_preds"
   ]
  },
  {
   "cell_type": "code",
   "execution_count": 18,
   "metadata": {},
   "outputs": [
    {
     "name": "stdout",
     "output_type": "stream",
     "text": [
      "Epoch 1/60\n"
     ]
    },
    {
     "name": "stderr",
     "output_type": "stream",
     "text": [
      "                                                                  \r"
     ]
    },
    {
     "name": "stdout",
     "output_type": "stream",
     "text": [
      "Train Loss: 1.1971 | Val Loss: 0.2251 | Val Acc: 0.9891\n",
      "Epoch 2/60\n"
     ]
    },
    {
     "name": "stderr",
     "output_type": "stream",
     "text": [
      "                                                                  \r"
     ]
    },
    {
     "name": "stdout",
     "output_type": "stream",
     "text": [
      "Train Loss: 0.0929 | Val Loss: 0.0443 | Val Acc: 0.9901\n",
      "Epoch 3/60\n"
     ]
    },
    {
     "name": "stderr",
     "output_type": "stream",
     "text": [
      "                                                                  \r"
     ]
    },
    {
     "name": "stdout",
     "output_type": "stream",
     "text": [
      "Train Loss: 0.0406 | Val Loss: 0.0345 | Val Acc: 0.9901\n",
      "Epoch 4/60\n"
     ]
    },
    {
     "name": "stderr",
     "output_type": "stream",
     "text": [
      "                                                                  \r"
     ]
    },
    {
     "name": "stdout",
     "output_type": "stream",
     "text": [
      "Train Loss: 0.0333 | Val Loss: 0.0291 | Val Acc: 0.9914\n",
      "Epoch 5/60\n"
     ]
    },
    {
     "name": "stderr",
     "output_type": "stream",
     "text": [
      "                                                                  \r"
     ]
    },
    {
     "name": "stdout",
     "output_type": "stream",
     "text": [
      "Train Loss: 0.0286 | Val Loss: 0.0255 | Val Acc: 0.9932\n",
      "Epoch 6/60\n"
     ]
    },
    {
     "name": "stderr",
     "output_type": "stream",
     "text": [
      "                                                                  \r"
     ]
    },
    {
     "name": "stdout",
     "output_type": "stream",
     "text": [
      "Train Loss: 0.0253 | Val Loss: 0.0227 | Val Acc: 0.9933\n",
      "Epoch 7/60\n"
     ]
    },
    {
     "name": "stderr",
     "output_type": "stream",
     "text": [
      "                                                                  \r"
     ]
    },
    {
     "name": "stdout",
     "output_type": "stream",
     "text": [
      "Train Loss: 0.0231 | Val Loss: 0.0207 | Val Acc: 0.9944\n",
      "Epoch 8/60\n"
     ]
    },
    {
     "name": "stderr",
     "output_type": "stream",
     "text": [
      "                                                                  \r"
     ]
    },
    {
     "name": "stdout",
     "output_type": "stream",
     "text": [
      "Train Loss: 0.0214 | Val Loss: 0.0193 | Val Acc: 0.9945\n",
      "Epoch 9/60\n"
     ]
    },
    {
     "name": "stderr",
     "output_type": "stream",
     "text": [
      "                                                                  \r"
     ]
    },
    {
     "name": "stdout",
     "output_type": "stream",
     "text": [
      "Train Loss: 0.0200 | Val Loss: 0.0180 | Val Acc: 0.9951\n",
      "Epoch 10/60\n"
     ]
    },
    {
     "name": "stderr",
     "output_type": "stream",
     "text": [
      "                                                                  \r"
     ]
    },
    {
     "name": "stdout",
     "output_type": "stream",
     "text": [
      "Train Loss: 0.0188 | Val Loss: 0.0168 | Val Acc: 0.9958\n",
      "Epoch 11/60\n"
     ]
    },
    {
     "name": "stderr",
     "output_type": "stream",
     "text": [
      "                                                                  \r"
     ]
    },
    {
     "name": "stdout",
     "output_type": "stream",
     "text": [
      "Train Loss: 0.0177 | Val Loss: 0.0157 | Val Acc: 0.9962\n",
      "Epoch 12/60\n"
     ]
    },
    {
     "name": "stderr",
     "output_type": "stream",
     "text": [
      "                                                                  \r"
     ]
    },
    {
     "name": "stdout",
     "output_type": "stream",
     "text": [
      "Train Loss: 0.0167 | Val Loss: 0.0147 | Val Acc: 0.9963\n",
      "Epoch 13/60\n"
     ]
    },
    {
     "name": "stderr",
     "output_type": "stream",
     "text": [
      "                                                                  \r"
     ]
    },
    {
     "name": "stdout",
     "output_type": "stream",
     "text": [
      "Train Loss: 0.0158 | Val Loss: 0.0140 | Val Acc: 0.9965\n",
      "Epoch 14/60\n"
     ]
    },
    {
     "name": "stderr",
     "output_type": "stream",
     "text": [
      "                                                                  \r"
     ]
    },
    {
     "name": "stdout",
     "output_type": "stream",
     "text": [
      "Train Loss: 0.0150 | Val Loss: 0.0131 | Val Acc: 0.9967\n",
      "Epoch 15/60\n"
     ]
    },
    {
     "name": "stderr",
     "output_type": "stream",
     "text": [
      "                                                                  \r"
     ]
    },
    {
     "name": "stdout",
     "output_type": "stream",
     "text": [
      "Train Loss: 0.0142 | Val Loss: 0.0124 | Val Acc: 0.9968\n",
      "Epoch 16/60\n"
     ]
    },
    {
     "name": "stderr",
     "output_type": "stream",
     "text": [
      "                                                                  \r"
     ]
    },
    {
     "name": "stdout",
     "output_type": "stream",
     "text": [
      "Train Loss: 0.0135 | Val Loss: 0.0115 | Val Acc: 0.9971\n",
      "Epoch 17/60\n"
     ]
    },
    {
     "name": "stderr",
     "output_type": "stream",
     "text": [
      "                                                                  \r"
     ]
    },
    {
     "name": "stdout",
     "output_type": "stream",
     "text": [
      "Train Loss: 0.0128 | Val Loss: 0.0109 | Val Acc: 0.9973\n",
      "Epoch 18/60\n"
     ]
    },
    {
     "name": "stderr",
     "output_type": "stream",
     "text": [
      "                                                                  \r"
     ]
    },
    {
     "name": "stdout",
     "output_type": "stream",
     "text": [
      "Train Loss: 0.0121 | Val Loss: 0.0104 | Val Acc: 0.9974\n",
      "Epoch 19/60\n"
     ]
    },
    {
     "name": "stderr",
     "output_type": "stream",
     "text": [
      "                                                                  \r"
     ]
    },
    {
     "name": "stdout",
     "output_type": "stream",
     "text": [
      "Train Loss: 0.0116 | Val Loss: 0.0099 | Val Acc: 0.9976\n",
      "Epoch 20/60\n"
     ]
    },
    {
     "name": "stderr",
     "output_type": "stream",
     "text": [
      "                                                                  \r"
     ]
    },
    {
     "name": "stdout",
     "output_type": "stream",
     "text": [
      "Train Loss: 0.0111 | Val Loss: 0.0095 | Val Acc: 0.9978\n",
      "Epoch 21/60\n"
     ]
    },
    {
     "name": "stderr",
     "output_type": "stream",
     "text": [
      "                                                                  \r"
     ]
    },
    {
     "name": "stdout",
     "output_type": "stream",
     "text": [
      "Train Loss: 0.0106 | Val Loss: 0.0091 | Val Acc: 0.9980\n",
      "Epoch 22/60\n"
     ]
    },
    {
     "name": "stderr",
     "output_type": "stream",
     "text": [
      "                                                                  \r"
     ]
    },
    {
     "name": "stdout",
     "output_type": "stream",
     "text": [
      "Train Loss: 0.0103 | Val Loss: 0.0088 | Val Acc: 0.9981\n",
      "Epoch 23/60\n"
     ]
    },
    {
     "name": "stderr",
     "output_type": "stream",
     "text": [
      "                                                                  \r"
     ]
    },
    {
     "name": "stdout",
     "output_type": "stream",
     "text": [
      "Train Loss: 0.0098 | Val Loss: 0.0085 | Val Acc: 0.9982\n",
      "Epoch 24/60\n"
     ]
    },
    {
     "name": "stderr",
     "output_type": "stream",
     "text": [
      "                                                                  \r"
     ]
    },
    {
     "name": "stdout",
     "output_type": "stream",
     "text": [
      "Train Loss: 0.0095 | Val Loss: 0.0082 | Val Acc: 0.9983\n",
      "Epoch 25/60\n"
     ]
    },
    {
     "name": "stderr",
     "output_type": "stream",
     "text": [
      "                                                                  \r"
     ]
    },
    {
     "name": "stdout",
     "output_type": "stream",
     "text": [
      "Train Loss: 0.0092 | Val Loss: 0.0078 | Val Acc: 0.9984\n",
      "Epoch 26/60\n"
     ]
    },
    {
     "name": "stderr",
     "output_type": "stream",
     "text": [
      "                                                                  \r"
     ]
    },
    {
     "name": "stdout",
     "output_type": "stream",
     "text": [
      "Train Loss: 0.0088 | Val Loss: 0.0076 | Val Acc: 0.9984\n",
      "Epoch 27/60\n"
     ]
    },
    {
     "name": "stderr",
     "output_type": "stream",
     "text": [
      "                                                                  \r"
     ]
    },
    {
     "name": "stdout",
     "output_type": "stream",
     "text": [
      "Train Loss: 0.0086 | Val Loss: 0.0073 | Val Acc: 0.9985\n",
      "Epoch 28/60\n"
     ]
    },
    {
     "name": "stderr",
     "output_type": "stream",
     "text": [
      "                                                                  \r"
     ]
    },
    {
     "name": "stdout",
     "output_type": "stream",
     "text": [
      "Train Loss: 0.0083 | Val Loss: 0.0070 | Val Acc: 0.9985\n",
      "Epoch 29/60\n"
     ]
    },
    {
     "name": "stderr",
     "output_type": "stream",
     "text": [
      "                                                                  \r"
     ]
    },
    {
     "name": "stdout",
     "output_type": "stream",
     "text": [
      "Train Loss: 0.0080 | Val Loss: 0.0068 | Val Acc: 0.9985\n",
      "Epoch 30/60\n"
     ]
    },
    {
     "name": "stderr",
     "output_type": "stream",
     "text": [
      "                                                                  \r"
     ]
    },
    {
     "name": "stdout",
     "output_type": "stream",
     "text": [
      "Train Loss: 0.0078 | Val Loss: 0.0066 | Val Acc: 0.9986\n",
      "Epoch 31/60\n"
     ]
    },
    {
     "name": "stderr",
     "output_type": "stream",
     "text": [
      "                                                                  \r"
     ]
    },
    {
     "name": "stdout",
     "output_type": "stream",
     "text": [
      "Train Loss: 0.0074 | Val Loss: 0.0064 | Val Acc: 0.9986\n",
      "Epoch 32/60\n"
     ]
    },
    {
     "name": "stderr",
     "output_type": "stream",
     "text": [
      "                                                                  \r"
     ]
    },
    {
     "name": "stdout",
     "output_type": "stream",
     "text": [
      "Train Loss: 0.0073 | Val Loss: 0.0062 | Val Acc: 0.9986\n",
      "Epoch 33/60\n"
     ]
    },
    {
     "name": "stderr",
     "output_type": "stream",
     "text": [
      "                                                                  \r"
     ]
    },
    {
     "name": "stdout",
     "output_type": "stream",
     "text": [
      "Train Loss: 0.0070 | Val Loss: 0.0060 | Val Acc: 0.9987\n",
      "Epoch 34/60\n"
     ]
    },
    {
     "name": "stderr",
     "output_type": "stream",
     "text": [
      "                                                                  \r"
     ]
    },
    {
     "name": "stdout",
     "output_type": "stream",
     "text": [
      "Train Loss: 0.0068 | Val Loss: 0.0058 | Val Acc: 0.9988\n",
      "Epoch 35/60\n"
     ]
    },
    {
     "name": "stderr",
     "output_type": "stream",
     "text": [
      "                                                                  \r"
     ]
    },
    {
     "name": "stdout",
     "output_type": "stream",
     "text": [
      "Train Loss: 0.0067 | Val Loss: 0.0057 | Val Acc: 0.9989\n",
      "Epoch 36/60\n"
     ]
    },
    {
     "name": "stderr",
     "output_type": "stream",
     "text": [
      "                                                                  \r"
     ]
    },
    {
     "name": "stdout",
     "output_type": "stream",
     "text": [
      "Train Loss: 0.0065 | Val Loss: 0.0055 | Val Acc: 0.9989\n",
      "Epoch 37/60\n"
     ]
    },
    {
     "name": "stderr",
     "output_type": "stream",
     "text": [
      "                                                                  \r"
     ]
    },
    {
     "name": "stdout",
     "output_type": "stream",
     "text": [
      "Train Loss: 0.0064 | Val Loss: 0.0054 | Val Acc: 0.9989\n",
      "Epoch 38/60\n"
     ]
    },
    {
     "name": "stderr",
     "output_type": "stream",
     "text": [
      "                                                                  \r"
     ]
    },
    {
     "name": "stdout",
     "output_type": "stream",
     "text": [
      "Train Loss: 0.0063 | Val Loss: 0.0053 | Val Acc: 0.9989\n",
      "Epoch 39/60\n"
     ]
    },
    {
     "name": "stderr",
     "output_type": "stream",
     "text": [
      "                                                                  \r"
     ]
    },
    {
     "name": "stdout",
     "output_type": "stream",
     "text": [
      "Train Loss: 0.0061 | Val Loss: 0.0052 | Val Acc: 0.9989\n",
      "Epoch 40/60\n"
     ]
    },
    {
     "name": "stderr",
     "output_type": "stream",
     "text": [
      "                                                                  \r"
     ]
    },
    {
     "name": "stdout",
     "output_type": "stream",
     "text": [
      "Train Loss: 0.0060 | Val Loss: 0.0051 | Val Acc: 0.9990\n",
      "Epoch 41/60\n"
     ]
    },
    {
     "name": "stderr",
     "output_type": "stream",
     "text": [
      "                                                                  \r"
     ]
    },
    {
     "name": "stdout",
     "output_type": "stream",
     "text": [
      "Train Loss: 0.0059 | Val Loss: 0.0050 | Val Acc: 0.9990\n",
      "Epoch 42/60\n"
     ]
    },
    {
     "name": "stderr",
     "output_type": "stream",
     "text": [
      "                                                                  \r"
     ]
    },
    {
     "name": "stdout",
     "output_type": "stream",
     "text": [
      "Train Loss: 0.0058 | Val Loss: 0.0049 | Val Acc: 0.9990\n",
      "Epoch 43/60\n"
     ]
    },
    {
     "name": "stderr",
     "output_type": "stream",
     "text": [
      "                                                                  \r"
     ]
    },
    {
     "name": "stdout",
     "output_type": "stream",
     "text": [
      "Train Loss: 0.0057 | Val Loss: 0.0048 | Val Acc: 0.9990\n",
      "Epoch 44/60\n"
     ]
    },
    {
     "name": "stderr",
     "output_type": "stream",
     "text": [
      "                                                                  \r"
     ]
    },
    {
     "name": "stdout",
     "output_type": "stream",
     "text": [
      "Train Loss: 0.0057 | Val Loss: 0.0048 | Val Acc: 0.9990\n",
      "Epoch 45/60\n"
     ]
    },
    {
     "name": "stderr",
     "output_type": "stream",
     "text": [
      "                                                                  \r"
     ]
    },
    {
     "name": "stdout",
     "output_type": "stream",
     "text": [
      "Train Loss: 0.0056 | Val Loss: 0.0047 | Val Acc: 0.9990\n",
      "Epoch 46/60\n"
     ]
    },
    {
     "name": "stderr",
     "output_type": "stream",
     "text": [
      "                                                                  \r"
     ]
    },
    {
     "name": "stdout",
     "output_type": "stream",
     "text": [
      "Train Loss: 0.0056 | Val Loss: 0.0046 | Val Acc: 0.9990\n",
      "Epoch 47/60\n"
     ]
    },
    {
     "name": "stderr",
     "output_type": "stream",
     "text": [
      "                                                                  \r"
     ]
    },
    {
     "name": "stdout",
     "output_type": "stream",
     "text": [
      "Train Loss: 0.0054 | Val Loss: 0.0046 | Val Acc: 0.9990\n",
      "Epoch 48/60\n"
     ]
    },
    {
     "name": "stderr",
     "output_type": "stream",
     "text": [
      "                                                                  \r"
     ]
    },
    {
     "name": "stdout",
     "output_type": "stream",
     "text": [
      "Train Loss: 0.0054 | Val Loss: 0.0045 | Val Acc: 0.9990\n",
      "Epoch 49/60\n"
     ]
    },
    {
     "name": "stderr",
     "output_type": "stream",
     "text": [
      "                                                                  \r"
     ]
    },
    {
     "name": "stdout",
     "output_type": "stream",
     "text": [
      "Train Loss: 0.0053 | Val Loss: 0.0044 | Val Acc: 0.9990\n",
      "Epoch 50/60\n"
     ]
    },
    {
     "name": "stderr",
     "output_type": "stream",
     "text": [
      "                                                                  \r"
     ]
    },
    {
     "name": "stdout",
     "output_type": "stream",
     "text": [
      "Train Loss: 0.0052 | Val Loss: 0.0043 | Val Acc: 0.9990\n",
      "Epoch 51/60\n"
     ]
    },
    {
     "name": "stderr",
     "output_type": "stream",
     "text": [
      "                                                                  \r"
     ]
    },
    {
     "name": "stdout",
     "output_type": "stream",
     "text": [
      "Train Loss: 0.0052 | Val Loss: 0.0043 | Val Acc: 0.9990\n",
      "Epoch 52/60\n"
     ]
    },
    {
     "name": "stderr",
     "output_type": "stream",
     "text": [
      "                                                                  \r"
     ]
    },
    {
     "name": "stdout",
     "output_type": "stream",
     "text": [
      "Train Loss: 0.0051 | Val Loss: 0.0042 | Val Acc: 0.9990\n",
      "Epoch 53/60\n"
     ]
    },
    {
     "name": "stderr",
     "output_type": "stream",
     "text": [
      "                                                                  \r"
     ]
    },
    {
     "name": "stdout",
     "output_type": "stream",
     "text": [
      "Train Loss: 0.0051 | Val Loss: 0.0042 | Val Acc: 0.9990\n",
      "Epoch 54/60\n"
     ]
    },
    {
     "name": "stderr",
     "output_type": "stream",
     "text": [
      "                                                                  \r"
     ]
    },
    {
     "name": "stdout",
     "output_type": "stream",
     "text": [
      "Train Loss: 0.0050 | Val Loss: 0.0041 | Val Acc: 0.9991\n",
      "Epoch 55/60\n"
     ]
    },
    {
     "name": "stderr",
     "output_type": "stream",
     "text": [
      "                                                                  \r"
     ]
    },
    {
     "name": "stdout",
     "output_type": "stream",
     "text": [
      "Train Loss: 0.0049 | Val Loss: 0.0041 | Val Acc: 0.9991\n",
      "Epoch 56/60\n"
     ]
    },
    {
     "name": "stderr",
     "output_type": "stream",
     "text": [
      "                                                                  \r"
     ]
    },
    {
     "name": "stdout",
     "output_type": "stream",
     "text": [
      "Train Loss: 0.0049 | Val Loss: 0.0040 | Val Acc: 0.9991\n",
      "Epoch 57/60\n"
     ]
    },
    {
     "name": "stderr",
     "output_type": "stream",
     "text": [
      "                                                                  \r"
     ]
    },
    {
     "name": "stdout",
     "output_type": "stream",
     "text": [
      "Train Loss: 0.0048 | Val Loss: 0.0040 | Val Acc: 0.9992\n",
      "Epoch 58/60\n"
     ]
    },
    {
     "name": "stderr",
     "output_type": "stream",
     "text": [
      "                                                                  \r"
     ]
    },
    {
     "name": "stdout",
     "output_type": "stream",
     "text": [
      "Train Loss: 0.0048 | Val Loss: 0.0039 | Val Acc: 0.9992\n",
      "Epoch 59/60\n"
     ]
    },
    {
     "name": "stderr",
     "output_type": "stream",
     "text": [
      "                                                                  \r"
     ]
    },
    {
     "name": "stdout",
     "output_type": "stream",
     "text": [
      "Train Loss: 0.0047 | Val Loss: 0.0039 | Val Acc: 0.9992\n",
      "Epoch 60/60\n"
     ]
    },
    {
     "name": "stderr",
     "output_type": "stream",
     "text": [
      "                                                                  "
     ]
    },
    {
     "name": "stdout",
     "output_type": "stream",
     "text": [
      "Train Loss: 0.0047 | Val Loss: 0.0039 | Val Acc: 0.9992\n"
     ]
    },
    {
     "name": "stderr",
     "output_type": "stream",
     "text": [
      "\r"
     ]
    }
   ],
   "source": [
    "for epoch in range(1, num_epochs+1):\n",
    "    print(f\"Epoch {epoch}/{num_epochs}\")\n",
    "    train_loss = train_with_qat(model, train_loader, criterion, optimizer, device)\n",
    "    val_loss, val_acc, all_labels, all_preds = evaluate(model, test_loader, criterion, device)\n",
    "\n",
    "    \n",
    "    print(f\"Train Loss: {train_loss:.4f} | Val Loss: {val_loss:.4f} | Val Acc: {val_acc:.4f}\")"
   ]
  },
  {
   "cell_type": "code",
   "execution_count": 19,
   "metadata": {},
   "outputs": [
    {
     "data": {
      "image/png": "[encoded data removed]",
      "text/plain": [
       "<Figure size 1200x1000 with 2 Axes>"
      ]
     },
     "metadata": {},
     "output_type": "display_data"
    }
   ],
   "source": [
    "#colour scale is currently a bit strange\n",
    "\n",
    "def compute_confusion_matrix(model, loader, device):\n",
    "    model.eval()\n",
    "    all_preds = []\n",
    "    all_labels = []\n",
    "    with torch.no_grad():\n",
    "        for batch_X, batch_y in loader:\n",
    "            batch_X = batch_X.to(device)\n",
    "            logits = model(batch_X)\n",
    "            preds = logits.argmax(dim=1).cpu().numpy()\n",
    "            all_preds.extend(preds)\n",
    "            all_labels.extend(batch_y.cpu().numpy())\n",
    "    return all_labels, all_preds\n",
    "\n",
    "# Compute confusion matrix on test data\n",
    "true_labels, pred_labels = compute_confusion_matrix(model, test_loader, device)\n",
    "cm = confusion_matrix(all_labels, all_preds, labels=list(range(len(target_labels))))\n",
    "\n",
    "# Create a larger figure\n",
    "fig, ax = plt.subplots(figsize=(12, 10))  \n",
    "\n",
    "# Pass 'ax=ax' to plot the confusion matrix on this figure\n",
    "disp = ConfusionMatrixDisplay(confusion_matrix=cm, display_labels=target_labels)\n",
    "disp.plot(cmap=plt.cm.Blues, xticks_rotation='vertical', ax=ax)\n",
    "\n",
    "plt.title(\"Confusion Matrix\")\n",
    "plt.tight_layout()  # Helps reduce label overlap\n",
    "plt.show()"
   ]
  },
  {
   "cell_type": "code",
   "execution_count": 20,
   "metadata": {},
   "outputs": [],
   "source": [
    "model_quantised = torch.quantization.convert(model.cpu())\n",
    "\n",
    "# Save or use the quantized model\n",
    "torch.save(model_quantised.state_dict(), \"quantised_model.pth\")"
   ]
  }
 ],
 "metadata": {
  "kernelspec": {
   "display_name": "Python 3",
   "language": "python",
   "name": "python3"
  },
  "language_info": {
   "codemirror_mode": {
    "name": "ipython",
    "version": 3
   },
   "file_extension": ".py",
   "mimetype": "text/x-python",
   "name": "python",
   "nbconvert_exporter": "python",
   "pygments_lexer": "ipython3",
   "version": "3.12.7"
  }
 },
 "nbformat": 4,
 "nbformat_minor": 2
}
