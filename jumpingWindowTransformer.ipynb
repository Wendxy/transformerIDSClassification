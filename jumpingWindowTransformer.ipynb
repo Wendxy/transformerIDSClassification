{
 "cells": [
  {
   "cell_type": "code",
   "execution_count": 1,
   "metadata": {},
   "outputs": [],
   "source": [
    "import os\n",
    "import pandas as pd\n",
    "import numpy as np\n",
    "from sklearn.preprocessing import LabelEncoder, OneHotEncoder, StandardScaler\n",
    "from sklearn.model_selection import train_test_split\n",
    "import torch\n",
    "import torch.nn as nn\n",
    "from torch.utils.data import Dataset, DataLoader\n",
    "import torch.optim as optim\n",
    "from tqdm import tqdm\n",
    "import matplotlib.pyplot as plt\n",
    "from sklearn.metrics import confusion_matrix, ConfusionMatrixDisplay\n",
    "import random\n",
    "\n",
    "seed = 42\n",
    "random.seed(seed)\n",
    "np.random.seed(seed)\n",
    "torch.manual_seed(seed)\n",
    "if torch.cuda.is_available():\n",
    "    torch.cuda.manual_seed_all(seed)"
   ]
  },
  {
   "cell_type": "code",
   "execution_count": 2,
   "metadata": {},
   "outputs": [
    {
     "name": "stdout",
     "output_type": "stream",
     "text": [
      "Dataset shape: (4898431, 42)\n",
      "label\n",
      "smurf.              2807886\n",
      "neptune.            1072017\n",
      "normal.              972781\n",
      "satan.                15892\n",
      "ipsweep.              12481\n",
      "portsweep.            10413\n",
      "nmap.                  2316\n",
      "back.                  2203\n",
      "warezclient.           1020\n",
      "teardrop.               979\n",
      "pod.                    264\n",
      "guess_passwd.            53\n",
      "buffer_overflow.         30\n",
      "land.                    21\n",
      "warezmaster.             20\n",
      "imap.                    12\n",
      "rootkit.                 10\n",
      "loadmodule.               9\n",
      "ftp_write.                8\n",
      "multihop.                 7\n",
      "phf.                      4\n",
      "perl.                     3\n",
      "spy.                      2\n",
      "Name: count, dtype: int64\n"
     ]
    }
   ],
   "source": [
    "# Load CSV data into a DataFrame\n",
    "\n",
    "data_path = \"../data/data.csv\"\n",
    "columns = ['duration', 'protocol_type', 'service', 'flag', 'src_bytes', 'dst_bytes', \n",
    "           'land', 'wrong_fragment', 'urgent', 'hot', 'num_failed_logins', 'logged_in', \n",
    "           'num_compromised', 'root_shell', 'su_attempted', 'num_root', 'num_file_creations', \n",
    "           'num_shells', 'num_access_files', 'num_outbound_cmds', 'is_host_login', 'is_guest_login', \n",
    "           'count', 'srv_count', 'serror_rate', 'srv_serror_rate', 'rerror_rate', 'srv_rerror_rate', \n",
    "           'same_srv_rate', 'diff_srv_rate', 'srv_diff_host_rate', 'dst_host_count', 'dst_host_srv_count', \n",
    "           'dst_host_same_srv_rate', 'dst_host_diff_srv_rate', 'dst_host_same_src_port_rate', \n",
    "           'dst_host_srv_diff_host_rate', 'dst_host_serror_rate', 'dst_host_srv_serror_rate', \n",
    "           'dst_host_rerror_rate', 'dst_host_srv_rerror_rate', 'label']\n",
    "\n",
    "df = pd.read_csv(data_path, header=None, names=columns)\n",
    "print(\"Dataset shape:\", df.shape)\n",
    "df.head()\n",
    "label_counts = df['label'].value_counts()\n",
    "print(label_counts)\n"
   ]
  },
  {
   "cell_type": "markdown",
   "metadata": {},
   "source": [
    "1. Preprocessing"
   ]
  },
  {
   "cell_type": "markdown",
   "metadata": {},
   "source": [
    "Now I will classify two different type of data, categorical and continous. This is because each type of data have \n",
    "different way of encoding it. So we will encode it differently, then concat it to create a token that represent a row of\n",
    "data."
   ]
  },
  {
   "cell_type": "code",
   "execution_count": 3,
   "metadata": {},
   "outputs": [],
   "source": [
    "categorical_cols = ['protocol_type', 'service', 'flag', 'land', 'logged_in', 'is_host_login', 'is_guest_login']\n",
    "continuous_cols = [col for col in df.columns if col not in categorical_cols + ['label']]"
   ]
  },
  {
   "cell_type": "code",
   "execution_count": 4,
   "metadata": {},
   "outputs": [],
   "source": [
    "#For continuous data, we will use normalisation \n",
    "scaler = StandardScaler()\n",
    "df_cont = pd.DataFrame(scaler.fit_transform(df[continuous_cols]), columns=continuous_cols)"
   ]
  },
  {
   "cell_type": "code",
   "execution_count": 5,
   "metadata": {},
   "outputs": [],
   "source": [
    "#For categorical data, since they r text, we will use label encoder\n",
    "df_cat = df[categorical_cols].copy()\n",
    "cat_encoders = {}\n",
    "for col in categorical_cols:\n",
    "    le = LabelEncoder()\n",
    "    df_cat[col] = le.fit_transform(df_cat[col].astype(str))\n",
    "    cat_encoders[col] = le"
   ]
  },
  {
   "cell_type": "code",
   "execution_count": 6,
   "metadata": {},
   "outputs": [],
   "source": [
    "#Preprocessing the label\n",
    "# Process target labels: first remove trailing punctuation if any (e.g., \"normal.\" -> \"normal\")\n",
    "df['label'] = df['label'].str.replace(r'\\W+$', '', regex=True)\n",
    "target_labels = ['back', 'buffer_overflow', 'ftp_write', 'guess_passwd', 'imap', 'ipsweep', 'land', \n",
    "                 'loadmodule', 'multihop', 'neptune', 'nmap', 'normal', 'perl', 'phf', 'pod', 'portsweep', \n",
    "                 'rootkit', 'satan', 'smurf', 'spy', 'teardrop', 'warezclient', 'warezmaster']\n"
   ]
  },
  {
   "cell_type": "code",
   "execution_count": 7,
   "metadata": {},
   "outputs": [
    {
     "name": "stdout",
     "output_type": "stream",
     "text": [
      "['back' 'buffer_overflow' 'ftp_write' 'guess_passwd' 'imap' 'ipsweep'\n",
      " 'land' 'loadmodule' 'multihop' 'neptune' 'nmap' 'normal' 'perl' 'phf'\n",
      " 'pod' 'portsweep' 'rootkit' 'satan' 'smurf' 'spy' 'teardrop'\n",
      " 'warezclient' 'warezmaster']\n"
     ]
    }
   ],
   "source": [
    "# Create label encoder for targets\n",
    "target_le = LabelEncoder()\n",
    "target_le.fit(target_labels)\n",
    "df['label_enc'] = target_le.transform(df['label'])\n",
    "print(target_le.classes_)\n",
    "\n"
   ]
  },
  {
   "cell_type": "code",
   "execution_count": 8,
   "metadata": {},
   "outputs": [
    {
     "name": "stdout",
     "output_type": "stream",
     "text": [
      "Processed features shape: (4898431, 41)\n"
     ]
    },
    {
     "data": {
      "text/html": [
       "<div>\n",
       "<style scoped>\n",
       "    .dataframe tbody tr th:only-of-type {\n",
       "        vertical-align: middle;\n",
       "    }\n",
       "\n",
       "    .dataframe tbody tr th {\n",
       "        vertical-align: top;\n",
       "    }\n",
       "\n",
       "    .dataframe thead th {\n",
       "        text-align: right;\n",
       "    }\n",
       "</style>\n",
       "<table border=\"1\" class=\"dataframe\">\n",
       "  <thead>\n",
       "    <tr style=\"text-align: right;\">\n",
       "      <th></th>\n",
       "      <th>duration</th>\n",
       "      <th>src_bytes</th>\n",
       "      <th>dst_bytes</th>\n",
       "      <th>wrong_fragment</th>\n",
       "      <th>urgent</th>\n",
       "      <th>hot</th>\n",
       "      <th>num_failed_logins</th>\n",
       "      <th>num_compromised</th>\n",
       "      <th>root_shell</th>\n",
       "      <th>su_attempted</th>\n",
       "      <th>...</th>\n",
       "      <th>dst_host_srv_serror_rate</th>\n",
       "      <th>dst_host_rerror_rate</th>\n",
       "      <th>dst_host_srv_rerror_rate</th>\n",
       "      <th>protocol_type</th>\n",
       "      <th>service</th>\n",
       "      <th>flag</th>\n",
       "      <th>land</th>\n",
       "      <th>logged_in</th>\n",
       "      <th>is_host_login</th>\n",
       "      <th>is_guest_login</th>\n",
       "    </tr>\n",
       "  </thead>\n",
       "  <tbody>\n",
       "    <tr>\n",
       "      <th>0</th>\n",
       "      <td>-0.066833</td>\n",
       "      <td>-0.001720</td>\n",
       "      <td>0.068188</td>\n",
       "      <td>-0.015139</td>\n",
       "      <td>-0.001103</td>\n",
       "      <td>-0.026521</td>\n",
       "      <td>-0.004391</td>\n",
       "      <td>-0.002097</td>\n",
       "      <td>-0.008258</td>\n",
       "      <td>-0.004546</td>\n",
       "      <td>...</td>\n",
       "      <td>-0.465454</td>\n",
       "      <td>-0.250832</td>\n",
       "      <td>-0.249632</td>\n",
       "      <td>1</td>\n",
       "      <td>24</td>\n",
       "      <td>9</td>\n",
       "      <td>0</td>\n",
       "      <td>1</td>\n",
       "      <td>0</td>\n",
       "      <td>0</td>\n",
       "    </tr>\n",
       "    <tr>\n",
       "      <th>1</th>\n",
       "      <td>-0.066833</td>\n",
       "      <td>-0.001777</td>\n",
       "      <td>0.005325</td>\n",
       "      <td>-0.015139</td>\n",
       "      <td>-0.001103</td>\n",
       "      <td>-0.026521</td>\n",
       "      <td>-0.004391</td>\n",
       "      <td>-0.002097</td>\n",
       "      <td>-0.008258</td>\n",
       "      <td>-0.004546</td>\n",
       "      <td>...</td>\n",
       "      <td>-0.465454</td>\n",
       "      <td>-0.250832</td>\n",
       "      <td>-0.249632</td>\n",
       "      <td>1</td>\n",
       "      <td>24</td>\n",
       "      <td>9</td>\n",
       "      <td>0</td>\n",
       "      <td>1</td>\n",
       "      <td>0</td>\n",
       "      <td>0</td>\n",
       "    </tr>\n",
       "    <tr>\n",
       "      <th>2</th>\n",
       "      <td>-0.066833</td>\n",
       "      <td>-0.001698</td>\n",
       "      <td>0.000208</td>\n",
       "      <td>-0.015139</td>\n",
       "      <td>-0.001103</td>\n",
       "      <td>-0.026521</td>\n",
       "      <td>-0.004391</td>\n",
       "      <td>-0.002097</td>\n",
       "      <td>-0.008258</td>\n",
       "      <td>-0.004546</td>\n",
       "      <td>...</td>\n",
       "      <td>-0.465454</td>\n",
       "      <td>-0.250832</td>\n",
       "      <td>-0.249632</td>\n",
       "      <td>1</td>\n",
       "      <td>24</td>\n",
       "      <td>9</td>\n",
       "      <td>0</td>\n",
       "      <td>1</td>\n",
       "      <td>0</td>\n",
       "      <td>0</td>\n",
       "    </tr>\n",
       "    <tr>\n",
       "      <th>3</th>\n",
       "      <td>-0.066833</td>\n",
       "      <td>-0.001701</td>\n",
       "      <td>0.001455</td>\n",
       "      <td>-0.015139</td>\n",
       "      <td>-0.001103</td>\n",
       "      <td>-0.026521</td>\n",
       "      <td>-0.004391</td>\n",
       "      <td>-0.002097</td>\n",
       "      <td>-0.008258</td>\n",
       "      <td>-0.004546</td>\n",
       "      <td>...</td>\n",
       "      <td>-0.465454</td>\n",
       "      <td>-0.250832</td>\n",
       "      <td>-0.249632</td>\n",
       "      <td>1</td>\n",
       "      <td>24</td>\n",
       "      <td>9</td>\n",
       "      <td>0</td>\n",
       "      <td>1</td>\n",
       "      <td>0</td>\n",
       "      <td>0</td>\n",
       "    </tr>\n",
       "    <tr>\n",
       "      <th>4</th>\n",
       "      <td>-0.066833</td>\n",
       "      <td>-0.001695</td>\n",
       "      <td>-0.000942</td>\n",
       "      <td>-0.015139</td>\n",
       "      <td>-0.001103</td>\n",
       "      <td>-0.026521</td>\n",
       "      <td>-0.004391</td>\n",
       "      <td>-0.002097</td>\n",
       "      <td>-0.008258</td>\n",
       "      <td>-0.004546</td>\n",
       "      <td>...</td>\n",
       "      <td>-0.465454</td>\n",
       "      <td>-0.250832</td>\n",
       "      <td>-0.249632</td>\n",
       "      <td>1</td>\n",
       "      <td>24</td>\n",
       "      <td>9</td>\n",
       "      <td>0</td>\n",
       "      <td>1</td>\n",
       "      <td>0</td>\n",
       "      <td>0</td>\n",
       "    </tr>\n",
       "  </tbody>\n",
       "</table>\n",
       "<p>5 rows × 41 columns</p>\n",
       "</div>"
      ],
      "text/plain": [
       "   duration  src_bytes  dst_bytes  wrong_fragment    urgent       hot  \\\n",
       "0 -0.066833  -0.001720   0.068188       -0.015139 -0.001103 -0.026521   \n",
       "1 -0.066833  -0.001777   0.005325       -0.015139 -0.001103 -0.026521   \n",
       "2 -0.066833  -0.001698   0.000208       -0.015139 -0.001103 -0.026521   \n",
       "3 -0.066833  -0.001701   0.001455       -0.015139 -0.001103 -0.026521   \n",
       "4 -0.066833  -0.001695  -0.000942       -0.015139 -0.001103 -0.026521   \n",
       "\n",
       "   num_failed_logins  num_compromised  root_shell  su_attempted  ...  \\\n",
       "0          -0.004391        -0.002097   -0.008258     -0.004546  ...   \n",
       "1          -0.004391        -0.002097   -0.008258     -0.004546  ...   \n",
       "2          -0.004391        -0.002097   -0.008258     -0.004546  ...   \n",
       "3          -0.004391        -0.002097   -0.008258     -0.004546  ...   \n",
       "4          -0.004391        -0.002097   -0.008258     -0.004546  ...   \n",
       "\n",
       "   dst_host_srv_serror_rate  dst_host_rerror_rate  dst_host_srv_rerror_rate  \\\n",
       "0                 -0.465454             -0.250832                 -0.249632   \n",
       "1                 -0.465454             -0.250832                 -0.249632   \n",
       "2                 -0.465454             -0.250832                 -0.249632   \n",
       "3                 -0.465454             -0.250832                 -0.249632   \n",
       "4                 -0.465454             -0.250832                 -0.249632   \n",
       "\n",
       "   protocol_type  service  flag  land  logged_in  is_host_login  \\\n",
       "0              1       24     9     0          1              0   \n",
       "1              1       24     9     0          1              0   \n",
       "2              1       24     9     0          1              0   \n",
       "3              1       24     9     0          1              0   \n",
       "4              1       24     9     0          1              0   \n",
       "\n",
       "   is_guest_login  \n",
       "0               0  \n",
       "1               0  \n",
       "2               0  \n",
       "3               0  \n",
       "4               0  \n",
       "\n",
       "[5 rows x 41 columns]"
      ]
     },
     "execution_count": 8,
     "metadata": {},
     "output_type": "execute_result"
    }
   ],
   "source": [
    "# Combine continuous and categorical features\n",
    "df_features = pd.concat([df_cont, df_cat], axis=1)\n",
    "print(\"Processed features shape:\", df_features.shape)\n",
    "df_features.head()"
   ]
  },
  {
   "cell_type": "markdown",
   "metadata": {},
   "source": [
    "2. Create the model"
   ]
  },
  {
   "cell_type": "markdown",
   "metadata": {},
   "source": [
    "My intention is using a transformer that have similar structure to BERT. This is because the model will have an attention layer to learn the semantic relationship between packets. The sliding allows\n",
    "use to look at a range of packets in sequence, and look if there is suspicious packets in the sequence."
   ]
  },
  {
   "cell_type": "code",
   "execution_count": 9,
   "metadata": {},
   "outputs": [
    {
     "name": "stdout",
     "output_type": "stream",
     "text": [
      "Original features shape: (4898431, 41)\n",
      "Original labels shape: (4898431,)\n",
      "Sliding window dataset length: 48984\n"
     ]
    }
   ],
   "source": [
    "WINDOW_SIZE = 100\n",
    "STRIDE = 100\n",
    "class JumpingWindowDataset(Dataset):\n",
    "    def __init__(self, features, labels, window_size, stride=None):\n",
    "        \"\"\"\n",
    "        features: numpy array of shape (num_rows, num_features)\n",
    "        labels: numpy array of shape (num_rows,)\n",
    "        window_size: int, number of rows per window\n",
    "        stride: int, how many steps to jump for each window (defaults to window_size for non-overlapping)\n",
    "        \"\"\"\n",
    "        self.features = features\n",
    "        self.labels = labels\n",
    "        self.window_size = window_size\n",
    "        self.stride = stride if stride is not None else window_size\n",
    "        \n",
    "        # Calculate number of windows\n",
    "        self.num_windows = max(0, (len(features) - window_size) // self.stride + 1)\n",
    "        \n",
    "    def __len__(self):\n",
    "        return self.num_windows\n",
    "    \n",
    "    def __getitem__(self, idx):\n",
    "        # Calculate start and end indices for this window\n",
    "        start_idx = idx * self.stride\n",
    "        end_idx = start_idx + self.window_size\n",
    "        \n",
    "        # Extract window features and all labels within the window\n",
    "        window_features = self.features[start_idx:end_idx]\n",
    "        window_labels = self.labels[start_idx:end_idx]\n",
    "        \n",
    "        return torch.tensor(window_features, dtype=torch.float32), torch.tensor(window_labels, dtype=torch.long)\n",
    "\n",
    "# Get the preprocessed feature and label arrays\n",
    "features_np = df_features.values.astype(np.float32)\n",
    "labels_np = df['label_enc'].values.astype(np.int64)\n",
    "print(\"Original features shape:\", features_np.shape)\n",
    "print(\"Original labels shape:\", labels_np.shape)\n",
    "\n",
    "# Create the sliding window dataset\n",
    "dataset = JumpingWindowDataset(features_np, labels_np, WINDOW_SIZE)\n",
    "print(\"Sliding window dataset length:\", len(dataset))\n",
    "\n",
    "# Split the dataset into training and test sets using random_split\n",
    "train_size = int(0.8 * len(dataset))\n",
    "test_size = len(dataset) - train_size\n",
    "train_dataset, test_dataset = torch.utils.data.random_split(dataset, [train_size, test_size])\n",
    "\n",
    "# Create DataLoaders\n",
    "train_loader = DataLoader(train_dataset, batch_size=32, shuffle=True) #originally batch_size = 32\n",
    "test_loader = DataLoader(test_dataset, batch_size=32)"
   ]
  },
  {
   "cell_type": "code",
   "execution_count": 10,
   "metadata": {},
   "outputs": [],
   "source": [
    "class PacketTransformer(nn.Module):\n",
    "    def __init__(self, input_dim, embed_dim, num_layers, num_heads, window_size, num_classes):\n",
    "        super(PacketTransformer, self).__init__()\n",
    "        self.window_size = window_size\n",
    "        \n",
    "        # Project the input token (each packet) into an embedding\n",
    "        self.input_proj = nn.Linear(input_dim, embed_dim)\n",
    "        \n",
    "        # Positional embeddings: one per token in the window\n",
    "        self.pos_embedding = nn.Parameter(torch.randn(window_size, embed_dim))\n",
    "        \n",
    "        # Transformer encoder layers\n",
    "        encoder_layer = nn.TransformerEncoderLayer(d_model=embed_dim, nhead=num_heads, dropout=0.1)\n",
    "        self.transformer_encoder = nn.TransformerEncoder(encoder_layer, num_layers=num_layers)\n",
    "        \n",
    "        # Classification head - will be applied to each token output\n",
    "        self.classifier = nn.Sequential(\n",
    "            nn.Linear(embed_dim, embed_dim),\n",
    "            nn.ReLU(),\n",
    "            nn.Linear(embed_dim, num_classes)\n",
    "        )\n",
    "        \n",
    "    def forward(self, x):\n",
    "        \"\"\"\n",
    "        x: tensor of shape [batch, window_size, input_dim]\n",
    "        \"\"\"\n",
    "        batch_size = x.size(0)\n",
    "        \n",
    "        # Project each token\n",
    "        tokens = self.input_proj(x)  # [batch, window_size, embed_dim]\n",
    "        \n",
    "        # Add positional embedding\n",
    "        tokens = tokens + self.pos_embedding.unsqueeze(0)\n",
    "        \n",
    "        # Transformer expects shape: [seq_len, batch, embed_dim]\n",
    "        tokens = tokens.transpose(0, 1)\n",
    "        transformer_out = self.transformer_encoder(tokens)\n",
    "        \n",
    "        # Transpose back to [batch, seq_len, embed_dim]\n",
    "        transformer_out = transformer_out.transpose(0, 1)\n",
    "        \n",
    "        # Apply classifier to each token output\n",
    "        logits = self.classifier(transformer_out)  # [batch, window_size, num_classes]\n",
    "        \n",
    "        return logits"
   ]
  },
  {
   "cell_type": "code",
   "execution_count": 11,
   "metadata": {},
   "outputs": [
    {
     "name": "stdout",
     "output_type": "stream",
     "text": [
      "Using device: cuda\n"
     ]
    },
    {
     "name": "stderr",
     "output_type": "stream",
     "text": [
      "c:\\Users\\Antoi\\AppData\\Local\\Programs\\Python\\Python312\\Lib\\site-packages\\torch\\nn\\modules\\transformer.py:379: UserWarning: enable_nested_tensor is True, but self.use_nested_tensor is False because encoder_layer.self_attn.batch_first was not True(use batch_first for better inference performance)\n",
      "  warnings.warn(\n"
     ]
    }
   ],
   "source": [
    "input_dim = dataset.features.shape[-1]#X_Windows.shape[-1] #df_features.shape[-1]  # number of features per token\n",
    "embed_dim = 16 #originally 64\n",
    "num_layers = 1 #modify number of heads and layers original value =2 \n",
    "num_heads = 2 # original value = 4\n",
    "num_classes = len(target_labels)\n",
    "num_epochs = 60\n",
    "\n",
    "device = torch.device(\"cuda\" if torch.cuda.is_available() else \"cpu\")\n",
    "print(\"Using device:\", device)\n",
    "\n",
    "model = PacketTransformer(input_dim=input_dim, embed_dim=embed_dim, num_layers=num_layers,\n",
    "                          num_heads=num_heads, window_size=WINDOW_SIZE, num_classes=num_classes).to(device)\n",
    "criterion = nn.CrossEntropyLoss()\n",
    "optimizer = optim.Adam(model.parameters(), lr=1e-4)"
   ]
  },
  {
   "cell_type": "code",
   "execution_count": 12,
   "metadata": {},
   "outputs": [],
   "source": [
    "def train_epoch(model, loader, criterion, optimizer, device):\n",
    "    model.train()\n",
    "    running_loss = 0.0\n",
    "    # Wrap loader with tqdm for progress bar\n",
    "    for batch_X, batch_y in tqdm(loader, desc=\"Training\", leave=False):\n",
    "        batch_X, batch_y = batch_X.to(device), batch_y.to(device)\n",
    "        optimizer.zero_grad()\n",
    "        \n",
    "        # Get model output (batch_size, window_size, num_classes)\n",
    "        logits = model(batch_X)\n",
    "        \n",
    "        # Reshape for loss calculation\n",
    "        batch_size, window_size, num_classes = logits.shape\n",
    "        logits_flat = logits.reshape(-1, num_classes)\n",
    "        labels_flat = batch_y.view(-1)\n",
    "        \n",
    "        # Calculate loss\n",
    "        loss = criterion(logits_flat, labels_flat)\n",
    "        loss.backward()\n",
    "        optimizer.step()\n",
    "        \n",
    "        running_loss += loss.item() * batch_X.size(0) * window_size\n",
    "        \n",
    "    # Return only the loss (to match original function signature)\n",
    "    return running_loss / (len(loader.dataset) * WINDOW_SIZE)"
   ]
  },
  {
   "cell_type": "code",
   "execution_count": 13,
   "metadata": {},
   "outputs": [],
   "source": [
    "def evaluate(model, loader, criterion, device):\n",
    "    model.eval()\n",
    "    running_loss = 0.0\n",
    "    correct = 0\n",
    "    total = 0\n",
    "    all_preds = []\n",
    "    all_labels = []\n",
    "    \n",
    "    with torch.no_grad():\n",
    "        for batch_X, batch_y in tqdm(loader, desc=\"Evaluating\", leave=False):\n",
    "            batch_X, batch_y = batch_X.to(device), batch_y.to(device)\n",
    "            \n",
    "            # Get model output\n",
    "            logits = model(batch_X)\n",
    "            \n",
    "            # Reshape for loss calculation\n",
    "            batch_size, window_size, num_classes = logits.shape\n",
    "            logits_flat = logits.reshape(-1, num_classes)\n",
    "            labels_flat = batch_y.view(-1)\n",
    "            \n",
    "            loss = criterion(logits_flat, labels_flat)\n",
    "            \n",
    "            # Calculate accuracy\n",
    "            preds = logits_flat.argmax(dim=1)\n",
    "            correct += (preds == labels_flat).sum().item()\n",
    "            total += labels_flat.size(0)\n",
    "            \n",
    "            # Collect predictions and true labels for confusion matrix\n",
    "            all_preds.extend(preds.cpu().numpy())\n",
    "            all_labels.extend(labels_flat.cpu().numpy())\n",
    "            \n",
    "            running_loss += loss.item() * batch_X.size(0) * window_size\n",
    "    \n",
    "    avg_loss = running_loss / (len(loader.dataset) * WINDOW_SIZE)\n",
    "    avg_acc = correct / total\n",
    "    \n",
    "    return avg_loss, avg_acc, all_labels, all_preds"
   ]
  },
  {
   "cell_type": "code",
   "execution_count": 14,
   "metadata": {},
   "outputs": [
    {
     "name": "stdout",
     "output_type": "stream",
     "text": [
      "Epoch 1/60\n"
     ]
    },
    {
     "name": "stderr",
     "output_type": "stream",
     "text": [
      "                                                              \r"
     ]
    },
    {
     "name": "stdout",
     "output_type": "stream",
     "text": [
      "Train Loss: 1.0636 | Val Loss: 0.1609 | Val Acc: 0.9901\n",
      "Epoch 2/60\n"
     ]
    },
    {
     "name": "stderr",
     "output_type": "stream",
     "text": [
      "                                                              \r"
     ]
    },
    {
     "name": "stdout",
     "output_type": "stream",
     "text": [
      "Train Loss: 0.1021 | Val Loss: 0.0548 | Val Acc: 0.9916\n",
      "Epoch 3/60\n"
     ]
    },
    {
     "name": "stderr",
     "output_type": "stream",
     "text": [
      "                                                              \r"
     ]
    },
    {
     "name": "stdout",
     "output_type": "stream",
     "text": [
      "Train Loss: 0.0472 | Val Loss: 0.0370 | Val Acc: 0.9944\n",
      "Epoch 4/60\n"
     ]
    },
    {
     "name": "stderr",
     "output_type": "stream",
     "text": [
      "                                                              \r"
     ]
    },
    {
     "name": "stdout",
     "output_type": "stream",
     "text": [
      "Train Loss: 0.0326 | Val Loss: 0.0305 | Val Acc: 0.9948\n",
      "Epoch 5/60\n"
     ]
    },
    {
     "name": "stderr",
     "output_type": "stream",
     "text": [
      "                                                              \r"
     ]
    },
    {
     "name": "stdout",
     "output_type": "stream",
     "text": [
      "Train Loss: 0.0251 | Val Loss: 0.0249 | Val Acc: 0.9956\n",
      "Epoch 6/60\n"
     ]
    },
    {
     "name": "stderr",
     "output_type": "stream",
     "text": [
      "                                                              \r"
     ]
    },
    {
     "name": "stdout",
     "output_type": "stream",
     "text": [
      "Train Loss: 0.0205 | Val Loss: 0.0215 | Val Acc: 0.9963\n",
      "Epoch 7/60\n"
     ]
    },
    {
     "name": "stderr",
     "output_type": "stream",
     "text": [
      "                                                              \r"
     ]
    },
    {
     "name": "stdout",
     "output_type": "stream",
     "text": [
      "Train Loss: 0.0176 | Val Loss: 0.0186 | Val Acc: 0.9968\n",
      "Epoch 8/60\n"
     ]
    },
    {
     "name": "stderr",
     "output_type": "stream",
     "text": [
      "                                                              \r"
     ]
    },
    {
     "name": "stdout",
     "output_type": "stream",
     "text": [
      "Train Loss: 0.0152 | Val Loss: 0.0171 | Val Acc: 0.9969\n",
      "Epoch 9/60\n"
     ]
    },
    {
     "name": "stderr",
     "output_type": "stream",
     "text": [
      "                                                              \r"
     ]
    },
    {
     "name": "stdout",
     "output_type": "stream",
     "text": [
      "Train Loss: 0.0136 | Val Loss: 0.0153 | Val Acc: 0.9973\n",
      "Epoch 10/60\n"
     ]
    },
    {
     "name": "stderr",
     "output_type": "stream",
     "text": [
      "                                                              \r"
     ]
    },
    {
     "name": "stdout",
     "output_type": "stream",
     "text": [
      "Train Loss: 0.0123 | Val Loss: 0.0150 | Val Acc: 0.9973\n",
      "Epoch 11/60\n"
     ]
    },
    {
     "name": "stderr",
     "output_type": "stream",
     "text": [
      "                                                              \r"
     ]
    },
    {
     "name": "stdout",
     "output_type": "stream",
     "text": [
      "Train Loss: 0.0112 | Val Loss: 0.0126 | Val Acc: 0.9977\n",
      "Epoch 12/60\n"
     ]
    },
    {
     "name": "stderr",
     "output_type": "stream",
     "text": [
      "                                                              \r"
     ]
    },
    {
     "name": "stdout",
     "output_type": "stream",
     "text": [
      "Train Loss: 0.0104 | Val Loss: 0.0122 | Val Acc: 0.9976\n",
      "Epoch 13/60\n"
     ]
    },
    {
     "name": "stderr",
     "output_type": "stream",
     "text": [
      "                                                              \r"
     ]
    },
    {
     "name": "stdout",
     "output_type": "stream",
     "text": [
      "Train Loss: 0.0095 | Val Loss: 0.0113 | Val Acc: 0.9977\n",
      "Epoch 14/60\n"
     ]
    },
    {
     "name": "stderr",
     "output_type": "stream",
     "text": [
      "                                                              \r"
     ]
    },
    {
     "name": "stdout",
     "output_type": "stream",
     "text": [
      "Train Loss: 0.0090 | Val Loss: 0.0119 | Val Acc: 0.9975\n",
      "Epoch 15/60\n"
     ]
    },
    {
     "name": "stderr",
     "output_type": "stream",
     "text": [
      "                                                              \r"
     ]
    },
    {
     "name": "stdout",
     "output_type": "stream",
     "text": [
      "Train Loss: 0.0084 | Val Loss: 0.0104 | Val Acc: 0.9979\n",
      "Epoch 16/60\n"
     ]
    },
    {
     "name": "stderr",
     "output_type": "stream",
     "text": [
      "                                                              \r"
     ]
    },
    {
     "name": "stdout",
     "output_type": "stream",
     "text": [
      "Train Loss: 0.0075 | Val Loss: 0.0102 | Val Acc: 0.9978\n",
      "Epoch 17/60\n"
     ]
    },
    {
     "name": "stderr",
     "output_type": "stream",
     "text": [
      "                                                              \r"
     ]
    },
    {
     "name": "stdout",
     "output_type": "stream",
     "text": [
      "Train Loss: 0.0072 | Val Loss: 0.0097 | Val Acc: 0.9979\n",
      "Epoch 18/60\n"
     ]
    },
    {
     "name": "stderr",
     "output_type": "stream",
     "text": [
      "                                                              \r"
     ]
    },
    {
     "name": "stdout",
     "output_type": "stream",
     "text": [
      "Train Loss: 0.0066 | Val Loss: 0.0095 | Val Acc: 0.9979\n",
      "Epoch 19/60\n"
     ]
    },
    {
     "name": "stderr",
     "output_type": "stream",
     "text": [
      "                                                              \r"
     ]
    },
    {
     "name": "stdout",
     "output_type": "stream",
     "text": [
      "Train Loss: 0.0062 | Val Loss: 0.0081 | Val Acc: 0.9982\n",
      "Epoch 20/60\n"
     ]
    },
    {
     "name": "stderr",
     "output_type": "stream",
     "text": [
      "                                                              \r"
     ]
    },
    {
     "name": "stdout",
     "output_type": "stream",
     "text": [
      "Train Loss: 0.0059 | Val Loss: 0.0081 | Val Acc: 0.9982\n",
      "Epoch 21/60\n"
     ]
    },
    {
     "name": "stderr",
     "output_type": "stream",
     "text": [
      "                                                              \r"
     ]
    },
    {
     "name": "stdout",
     "output_type": "stream",
     "text": [
      "Train Loss: 0.0055 | Val Loss: 0.0075 | Val Acc: 0.9984\n",
      "Epoch 22/60\n"
     ]
    },
    {
     "name": "stderr",
     "output_type": "stream",
     "text": [
      "                                                              \r"
     ]
    },
    {
     "name": "stdout",
     "output_type": "stream",
     "text": [
      "Train Loss: 0.0052 | Val Loss: 0.0078 | Val Acc: 0.9984\n",
      "Epoch 23/60\n"
     ]
    },
    {
     "name": "stderr",
     "output_type": "stream",
     "text": [
      "                                                              \r"
     ]
    },
    {
     "name": "stdout",
     "output_type": "stream",
     "text": [
      "Train Loss: 0.0048 | Val Loss: 0.0068 | Val Acc: 0.9986\n",
      "Epoch 24/60\n"
     ]
    },
    {
     "name": "stderr",
     "output_type": "stream",
     "text": [
      "                                                              \r"
     ]
    },
    {
     "name": "stdout",
     "output_type": "stream",
     "text": [
      "Train Loss: 0.0046 | Val Loss: 0.0069 | Val Acc: 0.9986\n",
      "Epoch 25/60\n"
     ]
    },
    {
     "name": "stderr",
     "output_type": "stream",
     "text": [
      "                                                              \r"
     ]
    },
    {
     "name": "stdout",
     "output_type": "stream",
     "text": [
      "Train Loss: 0.0044 | Val Loss: 0.0073 | Val Acc: 0.9986\n",
      "Epoch 26/60\n"
     ]
    },
    {
     "name": "stderr",
     "output_type": "stream",
     "text": [
      "                                                              \r"
     ]
    },
    {
     "name": "stdout",
     "output_type": "stream",
     "text": [
      "Train Loss: 0.0042 | Val Loss: 0.0063 | Val Acc: 0.9987\n",
      "Epoch 27/60\n"
     ]
    },
    {
     "name": "stderr",
     "output_type": "stream",
     "text": [
      "                                                              \r"
     ]
    },
    {
     "name": "stdout",
     "output_type": "stream",
     "text": [
      "Train Loss: 0.0040 | Val Loss: 0.0062 | Val Acc: 0.9987\n",
      "Epoch 28/60\n"
     ]
    },
    {
     "name": "stderr",
     "output_type": "stream",
     "text": [
      "                                                              \r"
     ]
    },
    {
     "name": "stdout",
     "output_type": "stream",
     "text": [
      "Train Loss: 0.0037 | Val Loss: 0.0068 | Val Acc: 0.9986\n",
      "Epoch 29/60\n"
     ]
    },
    {
     "name": "stderr",
     "output_type": "stream",
     "text": [
      "                                                              \r"
     ]
    },
    {
     "name": "stdout",
     "output_type": "stream",
     "text": [
      "Train Loss: 0.0036 | Val Loss: 0.0063 | Val Acc: 0.9987\n",
      "Epoch 30/60\n"
     ]
    },
    {
     "name": "stderr",
     "output_type": "stream",
     "text": [
      "                                                              \r"
     ]
    },
    {
     "name": "stdout",
     "output_type": "stream",
     "text": [
      "Train Loss: 0.0034 | Val Loss: 0.0058 | Val Acc: 0.9988\n",
      "Epoch 31/60\n"
     ]
    },
    {
     "name": "stderr",
     "output_type": "stream",
     "text": [
      "                                                              \r"
     ]
    },
    {
     "name": "stdout",
     "output_type": "stream",
     "text": [
      "Train Loss: 0.0033 | Val Loss: 0.0057 | Val Acc: 0.9989\n",
      "Epoch 32/60\n"
     ]
    },
    {
     "name": "stderr",
     "output_type": "stream",
     "text": [
      "                                                              \r"
     ]
    },
    {
     "name": "stdout",
     "output_type": "stream",
     "text": [
      "Train Loss: 0.0032 | Val Loss: 0.0052 | Val Acc: 0.9989\n",
      "Epoch 33/60\n"
     ]
    },
    {
     "name": "stderr",
     "output_type": "stream",
     "text": [
      "                                                              \r"
     ]
    },
    {
     "name": "stdout",
     "output_type": "stream",
     "text": [
      "Train Loss: 0.0030 | Val Loss: 0.0053 | Val Acc: 0.9989\n",
      "Epoch 34/60\n"
     ]
    },
    {
     "name": "stderr",
     "output_type": "stream",
     "text": [
      "                                                              \r"
     ]
    },
    {
     "name": "stdout",
     "output_type": "stream",
     "text": [
      "Train Loss: 0.0028 | Val Loss: 0.0049 | Val Acc: 0.9990\n",
      "Epoch 35/60\n"
     ]
    },
    {
     "name": "stderr",
     "output_type": "stream",
     "text": [
      "                                                              \r"
     ]
    },
    {
     "name": "stdout",
     "output_type": "stream",
     "text": [
      "Train Loss: 0.0027 | Val Loss: 0.0052 | Val Acc: 0.9990\n",
      "Epoch 36/60\n"
     ]
    },
    {
     "name": "stderr",
     "output_type": "stream",
     "text": [
      "                                                              \r"
     ]
    },
    {
     "name": "stdout",
     "output_type": "stream",
     "text": [
      "Train Loss: 0.0026 | Val Loss: 0.0049 | Val Acc: 0.9990\n",
      "Epoch 37/60\n"
     ]
    },
    {
     "name": "stderr",
     "output_type": "stream",
     "text": [
      "                                                              \r"
     ]
    },
    {
     "name": "stdout",
     "output_type": "stream",
     "text": [
      "Train Loss: 0.0025 | Val Loss: 0.0052 | Val Acc: 0.9989\n",
      "Epoch 38/60\n"
     ]
    },
    {
     "name": "stderr",
     "output_type": "stream",
     "text": [
      "                                                              \r"
     ]
    },
    {
     "name": "stdout",
     "output_type": "stream",
     "text": [
      "Train Loss: 0.0024 | Val Loss: 0.0049 | Val Acc: 0.9992\n",
      "Epoch 39/60\n"
     ]
    },
    {
     "name": "stderr",
     "output_type": "stream",
     "text": [
      "                                                              \r"
     ]
    },
    {
     "name": "stdout",
     "output_type": "stream",
     "text": [
      "Train Loss: 0.0023 | Val Loss: 0.0049 | Val Acc: 0.9991\n",
      "Epoch 40/60\n"
     ]
    },
    {
     "name": "stderr",
     "output_type": "stream",
     "text": [
      "                                                              \r"
     ]
    },
    {
     "name": "stdout",
     "output_type": "stream",
     "text": [
      "Train Loss: 0.0022 | Val Loss: 0.0045 | Val Acc: 0.9992\n",
      "Epoch 41/60\n"
     ]
    },
    {
     "name": "stderr",
     "output_type": "stream",
     "text": [
      "                                                              \r"
     ]
    },
    {
     "name": "stdout",
     "output_type": "stream",
     "text": [
      "Train Loss: 0.0022 | Val Loss: 0.0046 | Val Acc: 0.9992\n",
      "Epoch 42/60\n"
     ]
    },
    {
     "name": "stderr",
     "output_type": "stream",
     "text": [
      "                                                              \r"
     ]
    },
    {
     "name": "stdout",
     "output_type": "stream",
     "text": [
      "Train Loss: 0.0021 | Val Loss: 0.0044 | Val Acc: 0.9992\n",
      "Epoch 43/60\n"
     ]
    },
    {
     "name": "stderr",
     "output_type": "stream",
     "text": [
      "                                                              \r"
     ]
    },
    {
     "name": "stdout",
     "output_type": "stream",
     "text": [
      "Train Loss: 0.0020 | Val Loss: 0.0044 | Val Acc: 0.9992\n",
      "Epoch 44/60\n"
     ]
    },
    {
     "name": "stderr",
     "output_type": "stream",
     "text": [
      "                                                              \r"
     ]
    },
    {
     "name": "stdout",
     "output_type": "stream",
     "text": [
      "Train Loss: 0.0019 | Val Loss: 0.0048 | Val Acc: 0.9991\n",
      "Epoch 45/60\n"
     ]
    },
    {
     "name": "stderr",
     "output_type": "stream",
     "text": [
      "                                                              \r"
     ]
    },
    {
     "name": "stdout",
     "output_type": "stream",
     "text": [
      "Train Loss: 0.0019 | Val Loss: 0.0044 | Val Acc: 0.9992\n",
      "Epoch 46/60\n"
     ]
    },
    {
     "name": "stderr",
     "output_type": "stream",
     "text": [
      "                                                              \r"
     ]
    },
    {
     "name": "stdout",
     "output_type": "stream",
     "text": [
      "Train Loss: 0.0018 | Val Loss: 0.0041 | Val Acc: 0.9992\n",
      "Epoch 47/60\n"
     ]
    },
    {
     "name": "stderr",
     "output_type": "stream",
     "text": [
      "                                                              \r"
     ]
    },
    {
     "name": "stdout",
     "output_type": "stream",
     "text": [
      "Train Loss: 0.0017 | Val Loss: 0.0043 | Val Acc: 0.9992\n",
      "Epoch 48/60\n"
     ]
    },
    {
     "name": "stderr",
     "output_type": "stream",
     "text": [
      "                                                              \r"
     ]
    },
    {
     "name": "stdout",
     "output_type": "stream",
     "text": [
      "Train Loss: 0.0017 | Val Loss: 0.0042 | Val Acc: 0.9992\n",
      "Epoch 49/60\n"
     ]
    },
    {
     "name": "stderr",
     "output_type": "stream",
     "text": [
      "                                                              \r"
     ]
    },
    {
     "name": "stdout",
     "output_type": "stream",
     "text": [
      "Train Loss: 0.0016 | Val Loss: 0.0041 | Val Acc: 0.9992\n",
      "Epoch 50/60\n"
     ]
    },
    {
     "name": "stderr",
     "output_type": "stream",
     "text": [
      "                                                              \r"
     ]
    },
    {
     "name": "stdout",
     "output_type": "stream",
     "text": [
      "Train Loss: 0.0016 | Val Loss: 0.0039 | Val Acc: 0.9993\n",
      "Epoch 51/60\n"
     ]
    },
    {
     "name": "stderr",
     "output_type": "stream",
     "text": [
      "                                                              \r"
     ]
    },
    {
     "name": "stdout",
     "output_type": "stream",
     "text": [
      "Train Loss: 0.0015 | Val Loss: 0.0041 | Val Acc: 0.9993\n",
      "Epoch 52/60\n"
     ]
    },
    {
     "name": "stderr",
     "output_type": "stream",
     "text": [
      "                                                              \r"
     ]
    },
    {
     "name": "stdout",
     "output_type": "stream",
     "text": [
      "Train Loss: 0.0016 | Val Loss: 0.0044 | Val Acc: 0.9992\n",
      "Epoch 53/60\n"
     ]
    },
    {
     "name": "stderr",
     "output_type": "stream",
     "text": [
      "                                                              \r"
     ]
    },
    {
     "name": "stdout",
     "output_type": "stream",
     "text": [
      "Train Loss: 0.0014 | Val Loss: 0.0038 | Val Acc: 0.9993\n",
      "Epoch 54/60\n"
     ]
    },
    {
     "name": "stderr",
     "output_type": "stream",
     "text": [
      "                                                              \r"
     ]
    },
    {
     "name": "stdout",
     "output_type": "stream",
     "text": [
      "Train Loss: 0.0014 | Val Loss: 0.0043 | Val Acc: 0.9993\n",
      "Epoch 55/60\n"
     ]
    },
    {
     "name": "stderr",
     "output_type": "stream",
     "text": [
      "                                                              \r"
     ]
    },
    {
     "name": "stdout",
     "output_type": "stream",
     "text": [
      "Train Loss: 0.0013 | Val Loss: 0.0040 | Val Acc: 0.9993\n",
      "Epoch 56/60\n"
     ]
    },
    {
     "name": "stderr",
     "output_type": "stream",
     "text": [
      "                                                              \r"
     ]
    },
    {
     "name": "stdout",
     "output_type": "stream",
     "text": [
      "Train Loss: 0.0014 | Val Loss: 0.0038 | Val Acc: 0.9993\n",
      "Epoch 57/60\n"
     ]
    },
    {
     "name": "stderr",
     "output_type": "stream",
     "text": [
      "                                                              \r"
     ]
    },
    {
     "name": "stdout",
     "output_type": "stream",
     "text": [
      "Train Loss: 0.0013 | Val Loss: 0.0041 | Val Acc: 0.9993\n",
      "Epoch 58/60\n"
     ]
    },
    {
     "name": "stderr",
     "output_type": "stream",
     "text": [
      "                                                              \r"
     ]
    },
    {
     "name": "stdout",
     "output_type": "stream",
     "text": [
      "Train Loss: 0.0012 | Val Loss: 0.0040 | Val Acc: 0.9993\n",
      "Epoch 59/60\n"
     ]
    },
    {
     "name": "stderr",
     "output_type": "stream",
     "text": [
      "                                                              \r"
     ]
    },
    {
     "name": "stdout",
     "output_type": "stream",
     "text": [
      "Train Loss: 0.0012 | Val Loss: 0.0035 | Val Acc: 0.9993\n",
      "Epoch 60/60\n"
     ]
    },
    {
     "name": "stderr",
     "output_type": "stream",
     "text": [
      "                                                              "
     ]
    },
    {
     "name": "stdout",
     "output_type": "stream",
     "text": [
      "Train Loss: 0.0013 | Val Loss: 0.0039 | Val Acc: 0.9993\n"
     ]
    },
    {
     "name": "stderr",
     "output_type": "stream",
     "text": [
      "\r"
     ]
    }
   ],
   "source": [
    "for epoch in range(1, num_epochs+1):\n",
    "    print(f\"Epoch {epoch}/{num_epochs}\")\n",
    "    train_loss = train_epoch(model, train_loader, criterion, optimizer, device)\n",
    "    val_loss, val_acc, all_labels, all_preds = evaluate(model, test_loader, criterion, device)\n",
    "    print(f\"Train Loss: {train_loss:.4f} | Val Loss: {val_loss:.4f} | Val Acc: {val_acc:.4f}\")"
   ]
  },
  {
   "cell_type": "code",
   "execution_count": 15,
   "metadata": {},
   "outputs": [
    {
     "data": {
      "image/png": "[encoded data removed]",
      "text/plain": [
       "<Figure size 1200x1000 with 2 Axes>"
      ]
     },
     "metadata": {},
     "output_type": "display_data"
    }
   ],
   "source": [
    "#colour scale is currently a bit strange\n",
    "\n",
    "def compute_confusion_matrix(model, loader, device):\n",
    "    model.eval()\n",
    "    all_preds = []\n",
    "    all_labels = []\n",
    "    with torch.no_grad():\n",
    "        for batch_X, batch_y in loader:\n",
    "            batch_X = batch_X.to(device)\n",
    "            logits = model(batch_X)\n",
    "            preds = logits.argmax(dim=1).cpu().numpy()\n",
    "            all_preds.extend(preds)\n",
    "            all_labels.extend(batch_y.cpu().numpy())\n",
    "    return all_labels, all_preds\n",
    "\n",
    "# Compute confusion matrix on test data\n",
    "true_labels, pred_labels = compute_confusion_matrix(model, test_loader, device)\n",
    "cm = confusion_matrix(all_labels, all_preds, labels=list(range(len(target_labels))))\n",
    "\n",
    "# Create a larger figure\n",
    "fig, ax = plt.subplots(figsize=(12, 10))  \n",
    "\n",
    "# Pass 'ax=ax' to plot the confusion matrix on this figure\n",
    "disp = ConfusionMatrixDisplay(confusion_matrix=cm, display_labels=target_labels)\n",
    "disp.plot(cmap=plt.cm.Blues, xticks_rotation='vertical', ax=ax)\n",
    "\n",
    "plt.title(\"Confusion Matrix\")\n",
    "plt.tight_layout()  # Helps reduce label overlap\n",
    "plt.show()"
   ]
  }
 ],
 "metadata": {
  "kernelspec": {
   "display_name": "Python 3",
   "language": "python",
   "name": "python3"
  },
  "language_info": {
   "codemirror_mode": {
    "name": "ipython",
    "version": 3
   },
   "file_extension": ".py",
   "mimetype": "text/x-python",
   "name": "python",
   "nbconvert_exporter": "python",
   "pygments_lexer": "ipython3",
   "version": "3.12.7"
  }
 },
 "nbformat": 4,
 "nbformat_minor": 2
}
